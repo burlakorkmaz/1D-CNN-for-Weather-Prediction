{
 "cells": [
  {
   "cell_type": "markdown",
   "metadata": {},
   "source": [
    "# 1. IMPORTS"
   ]
  },
  {
   "cell_type": "code",
   "execution_count": 20,
   "metadata": {},
   "outputs": [],
   "source": [
    "# necessary libraries\n",
    "import optuna\n",
    "from tensorflow.keras.backend import clear_session\n",
    "from tensorflow.keras.layers import Conv1D, Dense, Flatten, AveragePooling1D, Dropout\n",
    "from tensorflow.keras.models import Sequential\n",
    "from tensorflow.keras import optimizers\n",
    "from tensorflow.keras import models\n",
    "from tensorflow.keras.utils import to_categorical\n",
    "from tensorflow.keras.callbacks import EarlyStopping\n",
    "import pandas as pd\n",
    "import numpy as np\n",
    "import seaborn as sns\n",
    "import matplotlib.pyplot as plt\n",
    "import scikitplot as skplt\n",
    "from sklearn.metrics import confusion_matrix\n",
    "from sklearn.preprocessing import MinMaxScaler\n",
    "from sklearn.model_selection import train_test_split\n",
    "from sklearn.linear_model import LogisticRegression\n",
    "from sklearn.svm import SVC\n",
    "from sklearn.linear_model import LogisticRegression\n",
    "import joblib"
   ]
  },
  {
   "cell_type": "markdown",
   "metadata": {},
   "source": [
    "# 2. DATA PREPROCESSING FUNCTIONS"
   ]
  },
  {
   "cell_type": "code",
   "execution_count": 5,
   "metadata": {},
   "outputs": [],
   "source": [
    "# Function that checks Null values\n",
    "def dataLook(data):\n",
    "    #print('\\n\\n- Head -\\n')\n",
    "    #print(data.head())\n",
    "    \n",
    "    print('\\n\\n- Numerical Data -')\n",
    "    print('\\n\\nAmount of Null values (Numerical Data):\\n')\n",
    "    print(data[data._get_numeric_data().columns].isnull().sum())\n",
    "\n",
    "    print('\\n\\n- Categorical Data -')\n",
    "    print('\\n\\nAmount of Null values (Categorical Data):\\n')\n",
    "    data[data.select_dtypes(include=['object']).columns].isnull().sum()\n",
    "    print(data[data.select_dtypes(include=['object']).columns].isnull().sum())\n",
    "    \n",
    "\n",
    "# Dropping unnecessary columns from data\n",
    "def dropUnnecessaryColumns(data):\n",
    "    data = data.drop(['Unnamed: 0','Date', 'Location', 'Evaporation', 'Sunshine', 'Cloud9am', 'Cloud3pm'],axis = 1)\n",
    "    return data\n",
    "\n",
    "\n",
    "# The Tukey Methot\n",
    "def tukey_method(x):\n",
    "    x = sorted(x)\n",
    " \n",
    "    i = round(len(x)/2)\n",
    "    if(len(x) % 2 == 1):\n",
    "        lower_sample = x[0:i]   \n",
    "        upper_sample = x[i+1:]\n",
    "    else:\n",
    "        \n",
    "        lower_sample = x[0:i]   \n",
    "        upper_sample = x[i:]\n",
    "        \n",
    "    median_lower = np.median(lower_sample)  #Q1\n",
    "    median_upper = np.median(upper_sample)  #Q3\n",
    "    \n",
    "    # median_upper - median_lower = IQR\n",
    "    # High outliers = Q3 + 1.5(Q3 – Q1) = Q3 + 1.5(IQR)\n",
    "    high_outlier = median_upper + 1.5*(median_upper - median_lower) \n",
    "    \n",
    "    #Low outliers = Q1 – 1.5(Q3 – Q1) = Q1 – 1.5(IQR)\n",
    "    low_outlier =  median_lower - 1.5*(median_upper - median_lower)\n",
    "    \n",
    "    return low_outlier, high_outlier\n",
    "\n",
    "\n",
    "# Function that replaces Null values with calculated mean values without considering outliers\n",
    "def numericalDataHandling(data):\n",
    "    numerical = data._get_numeric_data().columns\n",
    "    for numeric in data[numerical]:\n",
    "        #sns.boxplot(x=data[numeric])\n",
    "        non_nullable = data[numeric].dropna()\n",
    "        print('mean of',data[numeric].name, data[numeric].mean(), 'median of', data[numeric].name, data[numeric].median())\n",
    "        print('low and high outliers of', non_nullable.name, ':',tukey_method(non_nullable)) \n",
    "    \n",
    "        low_outlier, high_outlier = tukey_method(non_nullable)\n",
    "        removed = data[(data[numeric] > low_outlier) & (data[numeric] < high_outlier)][numeric]\n",
    "        print('After removing outliers; mean of', removed.name , removed.mean(),'median of',removed.name, removed.median(),'\\n')\n",
    "        \n",
    "        # Null values filled with mean value after removing outliers\n",
    "        data[numeric].fillna(removed.mean(),inplace=True)\n",
    "        \n",
    "    print('Amount of Null values (Numerical Data) :')\n",
    "    data[numerical].isnull().sum()\n",
    "    print(data[numerical].isnull().sum())\n",
    "    \n",
    "    return data\n",
    "\n",
    "\n",
    "# Function that replace Null values with mode values\n",
    "def categoricalDataHandling(data):\n",
    "    # Feature Engineering for Categorical Data \n",
    "    data['RainTomorrow'].replace({'No': 0, 'Yes': 1},inplace = True) # set No to 0, Yes 10 1\n",
    "    \n",
    "    categorical = data.select_dtypes(include=['object']).columns\n",
    "    for categoric in data[categorical]:\n",
    "        mode_value = data[categoric].mode() # Null variables filled with mode value\n",
    "        print('Mode of', data[categoric].name, ':',mode_value[0])\n",
    "        data[categoric].fillna(mode_value[0], inplace = True)\n",
    "    \n",
    "    print('\\nAmount of Null values (Categorical Data):')\n",
    "    data[categorical].isnull().sum()\n",
    "    print(data[categorical].isnull().sum())\n",
    "    \n",
    "    data['RainToday'].replace({'No': 0, 'Yes': 1},inplace = True) # set No to 0, Yes 10 1\n",
    "    \n",
    "    return data, categorical\n",
    "\n",
    "\n",
    "# Function that balance dataset with removing data (label RainTomorrow with value No)   \n",
    "def balanceDataset(data):\n",
    "    # To get a balanced dataset some rows deleted randomly from label 0 (RainTomorrow = No)\n",
    "    no_count = len(data[(data['RainTomorrow'] == 0)])\n",
    "    yes_count = len(data[(data['RainTomorrow'] == 1)])\n",
    "    \n",
    "    data = data.sample(frac = 1, random_state = 11) # shuffle rows\n",
    "    no_index = data[(data['RainTomorrow'] == 0)].index\n",
    "    \n",
    "    data = data.drop(no_index[0:no_count-yes_count])\n",
    "    \n",
    "    return data\n",
    "\n",
    "\n",
    "# Function that converts categorical data to numerical\n",
    "def categorical_to_numerical(data):\n",
    "    a = list(set(list(data['WindGustDir'])))\n",
    "    c = list(data.select_dtypes(include=['object']).columns)\n",
    "    for i in range(len(a)):\n",
    "        for j in range(len(c)):\n",
    "            data[c[j]].replace({a[i]: i+1},inplace = True)\n",
    "        \n",
    "    #print(data.head())\n",
    "    \n",
    "    labels = data['RainTomorrow']\n",
    "    data = data.drop(['RainTomorrow'], axis = 1)\n",
    "    col = data.columns\n",
    "\n",
    "    return data, col, labels\n",
    "\n",
    "\n",
    "# Feature Scaling\n",
    "def featureScaling(data, col):\n",
    "    #Feature Scaling    \n",
    "    scaler = MinMaxScaler()\n",
    "    data = scaler.fit_transform(data)\n",
    "    #print(pd.DataFrame(data, columns = [col]),'\\n')\n",
    "    #print(pd.DataFrame(data, columns = [col]).describe())\n",
    "    \n",
    "    return data\n",
    "\n",
    "\n",
    "# Data preprosessing   \n",
    "def divideTrainTest(data, labels):    \n",
    "    train, test, train_label, test_label = train_test_split(data,labels,test_size=0.25, random_state = 11)\n",
    "    return train, test, train_label, test_label\n",
    "\n",
    "def preparingDataforCNN(train, test, train_label, test_label):\n",
    "    train_label = to_categorical(train_label, num_classes = 2) \n",
    "    test_label = to_categorical(test_label, num_classes = 2)    \n",
    "    \n",
    "    # reshape for 1D CNN \n",
    "    train = train.reshape(train.shape[0], test.shape[1], 1)\n",
    "    test = test.reshape(test.shape[0], test.shape[1], 1)\n",
    "    \n",
    "    return train, test, train_label, test_label"
   ]
  },
  {
   "cell_type": "markdown",
   "metadata": {},
   "source": [
    "# 3. DATA PREPROCESSING"
   ]
  },
  {
   "cell_type": "code",
   "execution_count": 6,
   "metadata": {},
   "outputs": [
    {
     "data": {
      "text/html": [
       "<div>\n",
       "<style scoped>\n",
       "    .dataframe tbody tr th:only-of-type {\n",
       "        vertical-align: middle;\n",
       "    }\n",
       "\n",
       "    .dataframe tbody tr th {\n",
       "        vertical-align: top;\n",
       "    }\n",
       "\n",
       "    .dataframe thead th {\n",
       "        text-align: right;\n",
       "    }\n",
       "</style>\n",
       "<table border=\"1\" class=\"dataframe\">\n",
       "  <thead>\n",
       "    <tr style=\"text-align: right;\">\n",
       "      <th></th>\n",
       "      <th>Unnamed: 0</th>\n",
       "      <th>Date</th>\n",
       "      <th>Location</th>\n",
       "      <th>MinTemp</th>\n",
       "      <th>MaxTemp</th>\n",
       "      <th>Rainfall</th>\n",
       "      <th>Evaporation</th>\n",
       "      <th>Sunshine</th>\n",
       "      <th>WindGustDir</th>\n",
       "      <th>WindGustSpeed</th>\n",
       "      <th>...</th>\n",
       "      <th>Humidity9am</th>\n",
       "      <th>Humidity3pm</th>\n",
       "      <th>Pressure9am</th>\n",
       "      <th>Pressure3pm</th>\n",
       "      <th>Cloud9am</th>\n",
       "      <th>Cloud3pm</th>\n",
       "      <th>Temp9am</th>\n",
       "      <th>Temp3pm</th>\n",
       "      <th>RainToday</th>\n",
       "      <th>RainTomorrow</th>\n",
       "    </tr>\n",
       "  </thead>\n",
       "  <tbody>\n",
       "    <tr>\n",
       "      <th>0</th>\n",
       "      <td>0</td>\n",
       "      <td>2008-12-01</td>\n",
       "      <td>Albury</td>\n",
       "      <td>13.4</td>\n",
       "      <td>22.9</td>\n",
       "      <td>0.6</td>\n",
       "      <td>NaN</td>\n",
       "      <td>NaN</td>\n",
       "      <td>W</td>\n",
       "      <td>44.0</td>\n",
       "      <td>...</td>\n",
       "      <td>71.0</td>\n",
       "      <td>22.0</td>\n",
       "      <td>1007.7</td>\n",
       "      <td>1007.1</td>\n",
       "      <td>8.0</td>\n",
       "      <td>NaN</td>\n",
       "      <td>16.9</td>\n",
       "      <td>21.8</td>\n",
       "      <td>No</td>\n",
       "      <td>No</td>\n",
       "    </tr>\n",
       "    <tr>\n",
       "      <th>1</th>\n",
       "      <td>1</td>\n",
       "      <td>2008-12-02</td>\n",
       "      <td>Albury</td>\n",
       "      <td>7.4</td>\n",
       "      <td>25.1</td>\n",
       "      <td>0.0</td>\n",
       "      <td>NaN</td>\n",
       "      <td>NaN</td>\n",
       "      <td>WNW</td>\n",
       "      <td>44.0</td>\n",
       "      <td>...</td>\n",
       "      <td>44.0</td>\n",
       "      <td>25.0</td>\n",
       "      <td>1010.6</td>\n",
       "      <td>1007.8</td>\n",
       "      <td>NaN</td>\n",
       "      <td>NaN</td>\n",
       "      <td>17.2</td>\n",
       "      <td>24.3</td>\n",
       "      <td>No</td>\n",
       "      <td>No</td>\n",
       "    </tr>\n",
       "    <tr>\n",
       "      <th>2</th>\n",
       "      <td>2</td>\n",
       "      <td>2008-12-03</td>\n",
       "      <td>Albury</td>\n",
       "      <td>12.9</td>\n",
       "      <td>25.7</td>\n",
       "      <td>0.0</td>\n",
       "      <td>NaN</td>\n",
       "      <td>NaN</td>\n",
       "      <td>WSW</td>\n",
       "      <td>46.0</td>\n",
       "      <td>...</td>\n",
       "      <td>38.0</td>\n",
       "      <td>30.0</td>\n",
       "      <td>1007.6</td>\n",
       "      <td>1008.7</td>\n",
       "      <td>NaN</td>\n",
       "      <td>2.0</td>\n",
       "      <td>21.0</td>\n",
       "      <td>23.2</td>\n",
       "      <td>No</td>\n",
       "      <td>No</td>\n",
       "    </tr>\n",
       "    <tr>\n",
       "      <th>3</th>\n",
       "      <td>3</td>\n",
       "      <td>2008-12-04</td>\n",
       "      <td>Albury</td>\n",
       "      <td>9.2</td>\n",
       "      <td>28.0</td>\n",
       "      <td>0.0</td>\n",
       "      <td>NaN</td>\n",
       "      <td>NaN</td>\n",
       "      <td>NE</td>\n",
       "      <td>24.0</td>\n",
       "      <td>...</td>\n",
       "      <td>45.0</td>\n",
       "      <td>16.0</td>\n",
       "      <td>1017.6</td>\n",
       "      <td>1012.8</td>\n",
       "      <td>NaN</td>\n",
       "      <td>NaN</td>\n",
       "      <td>18.1</td>\n",
       "      <td>26.5</td>\n",
       "      <td>No</td>\n",
       "      <td>No</td>\n",
       "    </tr>\n",
       "    <tr>\n",
       "      <th>4</th>\n",
       "      <td>4</td>\n",
       "      <td>2008-12-05</td>\n",
       "      <td>Albury</td>\n",
       "      <td>17.5</td>\n",
       "      <td>32.3</td>\n",
       "      <td>1.0</td>\n",
       "      <td>NaN</td>\n",
       "      <td>NaN</td>\n",
       "      <td>W</td>\n",
       "      <td>41.0</td>\n",
       "      <td>...</td>\n",
       "      <td>82.0</td>\n",
       "      <td>33.0</td>\n",
       "      <td>1010.8</td>\n",
       "      <td>1006.0</td>\n",
       "      <td>7.0</td>\n",
       "      <td>8.0</td>\n",
       "      <td>17.8</td>\n",
       "      <td>29.7</td>\n",
       "      <td>No</td>\n",
       "      <td>No</td>\n",
       "    </tr>\n",
       "  </tbody>\n",
       "</table>\n",
       "<p>5 rows × 24 columns</p>\n",
       "</div>"
      ],
      "text/plain": [
       "   Unnamed: 0        Date Location  MinTemp  MaxTemp  Rainfall  Evaporation  \\\n",
       "0           0  2008-12-01   Albury     13.4     22.9       0.6          NaN   \n",
       "1           1  2008-12-02   Albury      7.4     25.1       0.0          NaN   \n",
       "2           2  2008-12-03   Albury     12.9     25.7       0.0          NaN   \n",
       "3           3  2008-12-04   Albury      9.2     28.0       0.0          NaN   \n",
       "4           4  2008-12-05   Albury     17.5     32.3       1.0          NaN   \n",
       "\n",
       "   Sunshine WindGustDir  WindGustSpeed  ... Humidity9am Humidity3pm  \\\n",
       "0       NaN           W           44.0  ...        71.0        22.0   \n",
       "1       NaN         WNW           44.0  ...        44.0        25.0   \n",
       "2       NaN         WSW           46.0  ...        38.0        30.0   \n",
       "3       NaN          NE           24.0  ...        45.0        16.0   \n",
       "4       NaN           W           41.0  ...        82.0        33.0   \n",
       "\n",
       "   Pressure9am  Pressure3pm  Cloud9am  Cloud3pm  Temp9am  Temp3pm  RainToday  \\\n",
       "0       1007.7       1007.1       8.0       NaN     16.9     21.8         No   \n",
       "1       1010.6       1007.8       NaN       NaN     17.2     24.3         No   \n",
       "2       1007.6       1008.7       NaN       2.0     21.0     23.2         No   \n",
       "3       1017.6       1012.8       NaN       NaN     18.1     26.5         No   \n",
       "4       1010.8       1006.0       7.0       8.0     17.8     29.7         No   \n",
       "\n",
       "   RainTomorrow  \n",
       "0            No  \n",
       "1            No  \n",
       "2            No  \n",
       "3            No  \n",
       "4            No  \n",
       "\n",
       "[5 rows x 24 columns]"
      ]
     },
     "execution_count": 6,
     "metadata": {},
     "output_type": "execute_result"
    }
   ],
   "source": [
    "# LOAD DATA\n",
    "data = pd.read_csv('weather.csv')\n",
    "data.head()"
   ]
  },
  {
   "cell_type": "code",
   "execution_count": 7,
   "metadata": {},
   "outputs": [
    {
     "name": "stdout",
     "output_type": "stream",
     "text": [
      "\n",
      "\n",
      "- Numerical Data -\n",
      "\n",
      "\n",
      "Amount of Null values (Numerical Data):\n",
      "\n",
      "Unnamed: 0           0\n",
      "MinTemp            637\n",
      "MaxTemp            322\n",
      "Rainfall          1406\n",
      "Evaporation      60843\n",
      "Sunshine         67816\n",
      "WindGustSpeed     9270\n",
      "WindSpeed9am      1348\n",
      "WindSpeed3pm      2630\n",
      "Humidity9am       1774\n",
      "Humidity3pm       3610\n",
      "Pressure9am      14014\n",
      "Pressure3pm      13981\n",
      "Cloud9am         53657\n",
      "Cloud3pm         57094\n",
      "Temp9am            904\n",
      "Temp3pm           2726\n",
      "dtype: int64\n",
      "\n",
      "\n",
      "- Categorical Data -\n",
      "\n",
      "\n",
      "Amount of Null values (Categorical Data):\n",
      "\n",
      "Date                0\n",
      "Location            0\n",
      "WindGustDir      9330\n",
      "WindDir9am      10013\n",
      "WindDir3pm       3778\n",
      "RainToday        1406\n",
      "RainTomorrow        0\n",
      "dtype: int64\n"
     ]
    }
   ],
   "source": [
    "# LOOK TO DATA\n",
    "dataLook(data)"
   ]
  },
  {
   "cell_type": "code",
   "execution_count": 6,
   "metadata": {},
   "outputs": [
    {
     "data": {
      "text/plain": [
       "<matplotlib.axes._subplots.AxesSubplot at 0x23975549320>"
      ]
     },
     "execution_count": 6,
     "metadata": {},
     "output_type": "execute_result"
    },
    {
     "data": {
      "image/png": "[encoded data removed]",
      "text/plain": [
       "<Figure size 1296x1296 with 2 Axes>"
      ]
     },
     "metadata": {
      "needs_background": "light"
     },
     "output_type": "display_data"
    }
   ],
   "source": [
    "# CORRELATION MATRIX OF NUMERIC DATA\n",
    "corrmat = data._get_numeric_data().corr()\n",
    "plt.subplots(figsize=(18,18))\n",
    "sns.heatmap(corrmat,cmap='RdYlGn',annot=True, square=True)"
   ]
  },
  {
   "cell_type": "code",
   "execution_count": 8,
   "metadata": {},
   "outputs": [
    {
     "data": {
      "text/html": [
       "<div>\n",
       "<style scoped>\n",
       "    .dataframe tbody tr th:only-of-type {\n",
       "        vertical-align: middle;\n",
       "    }\n",
       "\n",
       "    .dataframe tbody tr th {\n",
       "        vertical-align: top;\n",
       "    }\n",
       "\n",
       "    .dataframe thead th {\n",
       "        text-align: right;\n",
       "    }\n",
       "</style>\n",
       "<table border=\"1\" class=\"dataframe\">\n",
       "  <thead>\n",
       "    <tr style=\"text-align: right;\">\n",
       "      <th></th>\n",
       "      <th>MinTemp</th>\n",
       "      <th>MaxTemp</th>\n",
       "      <th>Rainfall</th>\n",
       "      <th>WindGustDir</th>\n",
       "      <th>WindGustSpeed</th>\n",
       "      <th>WindDir9am</th>\n",
       "      <th>WindDir3pm</th>\n",
       "      <th>WindSpeed9am</th>\n",
       "      <th>WindSpeed3pm</th>\n",
       "      <th>Humidity9am</th>\n",
       "      <th>Humidity3pm</th>\n",
       "      <th>Pressure9am</th>\n",
       "      <th>Pressure3pm</th>\n",
       "      <th>Temp9am</th>\n",
       "      <th>Temp3pm</th>\n",
       "      <th>RainToday</th>\n",
       "      <th>RainTomorrow</th>\n",
       "    </tr>\n",
       "  </thead>\n",
       "  <tbody>\n",
       "    <tr>\n",
       "      <th>0</th>\n",
       "      <td>13.4</td>\n",
       "      <td>22.9</td>\n",
       "      <td>0.6</td>\n",
       "      <td>W</td>\n",
       "      <td>44.0</td>\n",
       "      <td>W</td>\n",
       "      <td>WNW</td>\n",
       "      <td>20.0</td>\n",
       "      <td>24.0</td>\n",
       "      <td>71.0</td>\n",
       "      <td>22.0</td>\n",
       "      <td>1007.7</td>\n",
       "      <td>1007.1</td>\n",
       "      <td>16.9</td>\n",
       "      <td>21.8</td>\n",
       "      <td>No</td>\n",
       "      <td>No</td>\n",
       "    </tr>\n",
       "    <tr>\n",
       "      <th>1</th>\n",
       "      <td>7.4</td>\n",
       "      <td>25.1</td>\n",
       "      <td>0.0</td>\n",
       "      <td>WNW</td>\n",
       "      <td>44.0</td>\n",
       "      <td>NNW</td>\n",
       "      <td>WSW</td>\n",
       "      <td>4.0</td>\n",
       "      <td>22.0</td>\n",
       "      <td>44.0</td>\n",
       "      <td>25.0</td>\n",
       "      <td>1010.6</td>\n",
       "      <td>1007.8</td>\n",
       "      <td>17.2</td>\n",
       "      <td>24.3</td>\n",
       "      <td>No</td>\n",
       "      <td>No</td>\n",
       "    </tr>\n",
       "    <tr>\n",
       "      <th>2</th>\n",
       "      <td>12.9</td>\n",
       "      <td>25.7</td>\n",
       "      <td>0.0</td>\n",
       "      <td>WSW</td>\n",
       "      <td>46.0</td>\n",
       "      <td>W</td>\n",
       "      <td>WSW</td>\n",
       "      <td>19.0</td>\n",
       "      <td>26.0</td>\n",
       "      <td>38.0</td>\n",
       "      <td>30.0</td>\n",
       "      <td>1007.6</td>\n",
       "      <td>1008.7</td>\n",
       "      <td>21.0</td>\n",
       "      <td>23.2</td>\n",
       "      <td>No</td>\n",
       "      <td>No</td>\n",
       "    </tr>\n",
       "    <tr>\n",
       "      <th>3</th>\n",
       "      <td>9.2</td>\n",
       "      <td>28.0</td>\n",
       "      <td>0.0</td>\n",
       "      <td>NE</td>\n",
       "      <td>24.0</td>\n",
       "      <td>SE</td>\n",
       "      <td>E</td>\n",
       "      <td>11.0</td>\n",
       "      <td>9.0</td>\n",
       "      <td>45.0</td>\n",
       "      <td>16.0</td>\n",
       "      <td>1017.6</td>\n",
       "      <td>1012.8</td>\n",
       "      <td>18.1</td>\n",
       "      <td>26.5</td>\n",
       "      <td>No</td>\n",
       "      <td>No</td>\n",
       "    </tr>\n",
       "    <tr>\n",
       "      <th>4</th>\n",
       "      <td>17.5</td>\n",
       "      <td>32.3</td>\n",
       "      <td>1.0</td>\n",
       "      <td>W</td>\n",
       "      <td>41.0</td>\n",
       "      <td>ENE</td>\n",
       "      <td>NW</td>\n",
       "      <td>7.0</td>\n",
       "      <td>20.0</td>\n",
       "      <td>82.0</td>\n",
       "      <td>33.0</td>\n",
       "      <td>1010.8</td>\n",
       "      <td>1006.0</td>\n",
       "      <td>17.8</td>\n",
       "      <td>29.7</td>\n",
       "      <td>No</td>\n",
       "      <td>No</td>\n",
       "    </tr>\n",
       "  </tbody>\n",
       "</table>\n",
       "</div>"
      ],
      "text/plain": [
       "   MinTemp  MaxTemp  Rainfall WindGustDir  WindGustSpeed WindDir9am  \\\n",
       "0     13.4     22.9       0.6           W           44.0          W   \n",
       "1      7.4     25.1       0.0         WNW           44.0        NNW   \n",
       "2     12.9     25.7       0.0         WSW           46.0          W   \n",
       "3      9.2     28.0       0.0          NE           24.0         SE   \n",
       "4     17.5     32.3       1.0           W           41.0        ENE   \n",
       "\n",
       "  WindDir3pm  WindSpeed9am  WindSpeed3pm  Humidity9am  Humidity3pm  \\\n",
       "0        WNW          20.0          24.0         71.0         22.0   \n",
       "1        WSW           4.0          22.0         44.0         25.0   \n",
       "2        WSW          19.0          26.0         38.0         30.0   \n",
       "3          E          11.0           9.0         45.0         16.0   \n",
       "4         NW           7.0          20.0         82.0         33.0   \n",
       "\n",
       "   Pressure9am  Pressure3pm  Temp9am  Temp3pm RainToday RainTomorrow  \n",
       "0       1007.7       1007.1     16.9     21.8        No           No  \n",
       "1       1010.6       1007.8     17.2     24.3        No           No  \n",
       "2       1007.6       1008.7     21.0     23.2        No           No  \n",
       "3       1017.6       1012.8     18.1     26.5        No           No  \n",
       "4       1010.8       1006.0     17.8     29.7        No           No  "
      ]
     },
     "execution_count": 8,
     "metadata": {},
     "output_type": "execute_result"
    }
   ],
   "source": [
    "# DROP UNNECESSARY COLUMN\n",
    "data = dropUnnecessaryColumns(data)\n",
    "data.head()"
   ]
  },
  {
   "cell_type": "code",
   "execution_count": 9,
   "metadata": {},
   "outputs": [
    {
     "name": "stdout",
     "output_type": "stream",
     "text": [
      "mean of MinTemp 12.186399728729265 median of MinTemp 12.0\n",
      "low and high outliers of MinTemp : (-6.200000000000001, 30.6)\n",
      "After removing outliers; mean of MinTemp 12.192042065387929 median of MinTemp 12.0 \n",
      "\n",
      "mean of MaxTemp 23.226784191272355 median of MaxTemp 22.6\n",
      "low and high outliers of MaxTemp : (2.4499999999999975, 43.65)\n",
      "After removing outliers; mean of MaxTemp 23.249323254037847 median of MaxTemp 22.6 \n",
      "\n",
      "mean of Rainfall 2.349974074310838 median of Rainfall 0.0\n",
      "low and high outliers of Rainfall : (-1.2000000000000002, 2.0)\n",
      "After removing outliers; mean of Rainfall 0.13864320949927972 median of Rainfall 0.0 \n",
      "\n",
      "mean of WindGustSpeed 39.98429165757619 median of WindGustSpeed 39.0\n",
      "low and high outliers of WindGustSpeed : (5.5, 73.5)\n",
      "After removing outliers; mean of WindGustSpeed 39.00921357482085 median of WindGustSpeed 37.0 \n",
      "\n",
      "mean of WindSpeed9am 14.001988000994 median of WindSpeed9am 13.0\n",
      "low and high outliers of WindSpeed9am : (-11.0, 37.0)\n",
      "After removing outliers; mean of WindSpeed9am 13.526535385326135 median of WindSpeed9am 13.0 \n",
      "\n",
      "mean of WindSpeed3pm 18.63757586179718 median of WindSpeed3pm 19.0\n",
      "low and high outliers of WindSpeed3pm : (-3.5, 40.5)\n",
      "After removing outliers; mean of WindSpeed3pm 18.15585864848109 median of WindSpeed3pm 17.0 \n",
      "\n",
      "mean of Humidity9am 68.8438103105705 median of Humidity9am 70.0\n",
      "low and high outliers of Humidity9am : (18.0, 122.0)\n",
      "After removing outliers; mean of Humidity9am 69.49056562993061 median of Humidity9am 70.0 \n",
      "\n",
      "mean of Humidity3pm 51.482606091656265 median of Humidity3pm 52.0\n",
      "low and high outliers of Humidity3pm : (-6.5, 109.5)\n",
      "After removing outliers; mean of Humidity3pm 51.482606091656265 median of Humidity3pm 52.0 \n",
      "\n",
      "mean of Pressure9am 1017.6537584159653 median of Pressure9am 1017.6\n",
      "low and high outliers of Pressure9am : (998.65, 1036.65)\n",
      "After removing outliers; mean of Pressure9am 1017.7576843431362 median of Pressure9am 1017.7 \n",
      "\n",
      "mean of Pressure3pm 1015.2582035378904 median of Pressure3pm 1015.2\n",
      "low and high outliers of Pressure3pm : (996.0, 1034.4)\n",
      "After removing outliers; mean of Pressure3pm 1015.3226763155207 median of Pressure3pm 1015.3 \n",
      "\n",
      "mean of Temp9am 16.987508581701338 median of Temp9am 16.7\n",
      "low and high outliers of Temp9am : (-1.6500000000000004, 35.550000000000004)\n",
      "After removing outliers; mean of Temp9am 16.998690460997434 median of Temp9am 16.7 \n",
      "\n",
      "mean of Temp3pm 21.687234973147767 median of Temp3pm 21.1\n",
      "low and high outliers of Temp3pm : (1.9000000000000057, 41.099999999999994)\n",
      "After removing outliers; mean of Temp3pm 21.688980912839142 median of Temp3pm 21.1 \n",
      "\n",
      "Amount of Null values (Numerical Data) :\n",
      "MinTemp          0\n",
      "MaxTemp          0\n",
      "Rainfall         0\n",
      "WindGustSpeed    0\n",
      "WindSpeed9am     0\n",
      "WindSpeed3pm     0\n",
      "Humidity9am      0\n",
      "Humidity3pm      0\n",
      "Pressure9am      0\n",
      "Pressure3pm      0\n",
      "Temp9am          0\n",
      "Temp3pm          0\n",
      "dtype: int64\n"
     ]
    }
   ],
   "source": [
    "# FILL NULL VALUES IN THE NUMERICAL DATA WITH PROPER VALUES\n",
    "data = numericalDataHandling(data)"
   ]
  },
  {
   "cell_type": "code",
   "execution_count": 10,
   "metadata": {},
   "outputs": [
    {
     "name": "stdout",
     "output_type": "stream",
     "text": [
      "Mode of WindGustDir : W\n",
      "Mode of WindDir9am : N\n",
      "Mode of WindDir3pm : SE\n",
      "Mode of RainToday : No\n",
      "\n",
      "Amount of Null values (Categorical Data):\n",
      "WindGustDir    0\n",
      "WindDir9am     0\n",
      "WindDir3pm     0\n",
      "RainToday      0\n",
      "dtype: int64\n"
     ]
    }
   ],
   "source": [
    "# FILL NULL VALUES IN THE CATEGORICAL DATA WITH PROPER VALUES\n",
    "data, categorical = categoricalDataHandling(data)"
   ]
  },
  {
   "cell_type": "code",
   "execution_count": 10,
   "metadata": {},
   "outputs": [
    {
     "data": {
      "image/png": "[encoded data removed]",
      "text/plain": [
       "<Figure size 576x720 with 1 Axes>"
      ]
     },
     "metadata": {
      "needs_background": "light"
     },
     "output_type": "display_data"
    }
   ],
   "source": [
    "# RAIN TOMORROW VISUALIZATION\n",
    "# 0 means No, 1 means Yes\n",
    "f, ax = plt.subplots(figsize=(8, 10))\n",
    "ax = sns.countplot(x = 'RainTomorrow', data=data, palette = 'Paired', saturation = 2)\n",
    "plt.show()"
   ]
  },
  {
   "cell_type": "code",
   "execution_count": 11,
   "metadata": {},
   "outputs": [
    {
     "data": {
      "text/html": [
       "<div>\n",
       "<style scoped>\n",
       "    .dataframe tbody tr th:only-of-type {\n",
       "        vertical-align: middle;\n",
       "    }\n",
       "\n",
       "    .dataframe tbody tr th {\n",
       "        vertical-align: top;\n",
       "    }\n",
       "\n",
       "    .dataframe thead th {\n",
       "        text-align: right;\n",
       "    }\n",
       "</style>\n",
       "<table border=\"1\" class=\"dataframe\">\n",
       "  <thead>\n",
       "    <tr style=\"text-align: right;\">\n",
       "      <th></th>\n",
       "      <th>MinTemp</th>\n",
       "      <th>MaxTemp</th>\n",
       "      <th>Rainfall</th>\n",
       "      <th>WindGustSpeed</th>\n",
       "      <th>WindSpeed9am</th>\n",
       "      <th>WindSpeed3pm</th>\n",
       "      <th>Humidity9am</th>\n",
       "      <th>Humidity3pm</th>\n",
       "      <th>Pressure9am</th>\n",
       "      <th>Pressure3pm</th>\n",
       "      <th>Temp9am</th>\n",
       "      <th>Temp3pm</th>\n",
       "      <th>RainToday</th>\n",
       "      <th>RainTomorrow</th>\n",
       "    </tr>\n",
       "  </thead>\n",
       "  <tbody>\n",
       "    <tr>\n",
       "      <th>count</th>\n",
       "      <td>63754.000000</td>\n",
       "      <td>63754.000000</td>\n",
       "      <td>63754.000000</td>\n",
       "      <td>63754.000000</td>\n",
       "      <td>63754.000000</td>\n",
       "      <td>63754.000000</td>\n",
       "      <td>63754.000000</td>\n",
       "      <td>63754.000000</td>\n",
       "      <td>63754.000000</td>\n",
       "      <td>63754.000000</td>\n",
       "      <td>63754.000000</td>\n",
       "      <td>63754.000000</td>\n",
       "      <td>63754.000000</td>\n",
       "      <td>63754.000000</td>\n",
       "    </tr>\n",
       "    <tr>\n",
       "      <th>mean</th>\n",
       "      <td>12.563889</td>\n",
       "      <td>22.494020</td>\n",
       "      <td>3.641392</td>\n",
       "      <td>41.861058</td>\n",
       "      <td>14.540039</td>\n",
       "      <td>19.100849</td>\n",
       "      <td>72.052351</td>\n",
       "      <td>57.475561</td>\n",
       "      <td>1016.604489</td>\n",
       "      <td>1014.304199</td>\n",
       "      <td>16.894772</td>\n",
       "      <td>20.838128</td>\n",
       "      <td>0.305142</td>\n",
       "      <td>0.500000</td>\n",
       "    </tr>\n",
       "    <tr>\n",
       "      <th>std</th>\n",
       "      <td>6.374417</td>\n",
       "      <td>7.123007</td>\n",
       "      <td>10.938941</td>\n",
       "      <td>14.171497</td>\n",
       "      <td>9.145096</td>\n",
       "      <td>9.101021</td>\n",
       "      <td>18.468507</td>\n",
       "      <td>21.576522</td>\n",
       "      <td>6.956980</td>\n",
       "      <td>6.894538</td>\n",
       "      <td>6.427430</td>\n",
       "      <td>6.890618</td>\n",
       "      <td>0.460471</td>\n",
       "      <td>0.500004</td>\n",
       "    </tr>\n",
       "    <tr>\n",
       "      <th>min</th>\n",
       "      <td>-7.800000</td>\n",
       "      <td>-4.100000</td>\n",
       "      <td>0.000000</td>\n",
       "      <td>7.000000</td>\n",
       "      <td>0.000000</td>\n",
       "      <td>0.000000</td>\n",
       "      <td>0.000000</td>\n",
       "      <td>0.000000</td>\n",
       "      <td>980.500000</td>\n",
       "      <td>977.100000</td>\n",
       "      <td>-7.000000</td>\n",
       "      <td>-5.100000</td>\n",
       "      <td>0.000000</td>\n",
       "      <td>0.000000</td>\n",
       "    </tr>\n",
       "    <tr>\n",
       "      <th>25%</th>\n",
       "      <td>8.000000</td>\n",
       "      <td>17.200000</td>\n",
       "      <td>0.000000</td>\n",
       "      <td>31.000000</td>\n",
       "      <td>7.000000</td>\n",
       "      <td>13.000000</td>\n",
       "      <td>61.000000</td>\n",
       "      <td>43.000000</td>\n",
       "      <td>1012.300000</td>\n",
       "      <td>1009.900000</td>\n",
       "      <td>12.200000</td>\n",
       "      <td>15.800000</td>\n",
       "      <td>0.000000</td>\n",
       "      <td>0.000000</td>\n",
       "    </tr>\n",
       "    <tr>\n",
       "      <th>50%</th>\n",
       "      <td>12.300000</td>\n",
       "      <td>21.800000</td>\n",
       "      <td>0.000000</td>\n",
       "      <td>39.009214</td>\n",
       "      <td>13.000000</td>\n",
       "      <td>19.000000</td>\n",
       "      <td>73.000000</td>\n",
       "      <td>58.000000</td>\n",
       "      <td>1017.500000</td>\n",
       "      <td>1015.200000</td>\n",
       "      <td>16.600000</td>\n",
       "      <td>20.300000</td>\n",
       "      <td>0.000000</td>\n",
       "      <td>0.500000</td>\n",
       "    </tr>\n",
       "    <tr>\n",
       "      <th>75%</th>\n",
       "      <td>17.200000</td>\n",
       "      <td>27.500000</td>\n",
       "      <td>2.200000</td>\n",
       "      <td>50.000000</td>\n",
       "      <td>20.000000</td>\n",
       "      <td>24.000000</td>\n",
       "      <td>87.000000</td>\n",
       "      <td>73.000000</td>\n",
       "      <td>1020.800000</td>\n",
       "      <td>1018.500000</td>\n",
       "      <td>21.400000</td>\n",
       "      <td>25.400000</td>\n",
       "      <td>1.000000</td>\n",
       "      <td>1.000000</td>\n",
       "    </tr>\n",
       "    <tr>\n",
       "      <th>max</th>\n",
       "      <td>33.900000</td>\n",
       "      <td>46.800000</td>\n",
       "      <td>371.000000</td>\n",
       "      <td>135.000000</td>\n",
       "      <td>130.000000</td>\n",
       "      <td>87.000000</td>\n",
       "      <td>100.000000</td>\n",
       "      <td>100.000000</td>\n",
       "      <td>1040.900000</td>\n",
       "      <td>1038.500000</td>\n",
       "      <td>39.400000</td>\n",
       "      <td>46.100000</td>\n",
       "      <td>1.000000</td>\n",
       "      <td>1.000000</td>\n",
       "    </tr>\n",
       "  </tbody>\n",
       "</table>\n",
       "</div>"
      ],
      "text/plain": [
       "            MinTemp       MaxTemp      Rainfall  WindGustSpeed  WindSpeed9am  \\\n",
       "count  63754.000000  63754.000000  63754.000000   63754.000000  63754.000000   \n",
       "mean      12.563889     22.494020      3.641392      41.861058     14.540039   \n",
       "std        6.374417      7.123007     10.938941      14.171497      9.145096   \n",
       "min       -7.800000     -4.100000      0.000000       7.000000      0.000000   \n",
       "25%        8.000000     17.200000      0.000000      31.000000      7.000000   \n",
       "50%       12.300000     21.800000      0.000000      39.009214     13.000000   \n",
       "75%       17.200000     27.500000      2.200000      50.000000     20.000000   \n",
       "max       33.900000     46.800000    371.000000     135.000000    130.000000   \n",
       "\n",
       "       WindSpeed3pm   Humidity9am   Humidity3pm   Pressure9am   Pressure3pm  \\\n",
       "count  63754.000000  63754.000000  63754.000000  63754.000000  63754.000000   \n",
       "mean      19.100849     72.052351     57.475561   1016.604489   1014.304199   \n",
       "std        9.101021     18.468507     21.576522      6.956980      6.894538   \n",
       "min        0.000000      0.000000      0.000000    980.500000    977.100000   \n",
       "25%       13.000000     61.000000     43.000000   1012.300000   1009.900000   \n",
       "50%       19.000000     73.000000     58.000000   1017.500000   1015.200000   \n",
       "75%       24.000000     87.000000     73.000000   1020.800000   1018.500000   \n",
       "max       87.000000    100.000000    100.000000   1040.900000   1038.500000   \n",
       "\n",
       "            Temp9am       Temp3pm     RainToday  RainTomorrow  \n",
       "count  63754.000000  63754.000000  63754.000000  63754.000000  \n",
       "mean      16.894772     20.838128      0.305142      0.500000  \n",
       "std        6.427430      6.890618      0.460471      0.500004  \n",
       "min       -7.000000     -5.100000      0.000000      0.000000  \n",
       "25%       12.200000     15.800000      0.000000      0.000000  \n",
       "50%       16.600000     20.300000      0.000000      0.500000  \n",
       "75%       21.400000     25.400000      1.000000      1.000000  \n",
       "max       39.400000     46.100000      1.000000      1.000000  "
      ]
     },
     "execution_count": 11,
     "metadata": {},
     "output_type": "execute_result"
    }
   ],
   "source": [
    "# BALANCE DATASET VIA EQUALIZING YES NO COUNTS OF RAIN TOMORROW COLUMN\n",
    "data = balanceDataset(data)\n",
    "data.describe()"
   ]
  },
  {
   "cell_type": "code",
   "execution_count": 12,
   "metadata": {},
   "outputs": [
    {
     "data": {
      "image/png": "[encoded data removed]",
      "text/plain": [
       "<Figure size 576x720 with 1 Axes>"
      ]
     },
     "metadata": {
      "needs_background": "light"
     },
     "output_type": "display_data"
    }
   ],
   "source": [
    "# RAIN TOMORROW VISUALIZATION\n",
    "# 0 means No, 1 means Yes\n",
    "f, ax = plt.subplots(figsize=(8, 10))\n",
    "ax = sns.countplot(x = 'RainTomorrow', data=data, palette = 'Paired', saturation = 2)\n",
    "plt.show()"
   ]
  },
  {
   "cell_type": "code",
   "execution_count": 12,
   "metadata": {},
   "outputs": [
    {
     "data": {
      "text/html": [
       "<div>\n",
       "<style scoped>\n",
       "    .dataframe tbody tr th:only-of-type {\n",
       "        vertical-align: middle;\n",
       "    }\n",
       "\n",
       "    .dataframe tbody tr th {\n",
       "        vertical-align: top;\n",
       "    }\n",
       "\n",
       "    .dataframe thead th {\n",
       "        text-align: right;\n",
       "    }\n",
       "</style>\n",
       "<table border=\"1\" class=\"dataframe\">\n",
       "  <thead>\n",
       "    <tr style=\"text-align: right;\">\n",
       "      <th></th>\n",
       "      <th>MinTemp</th>\n",
       "      <th>MaxTemp</th>\n",
       "      <th>Rainfall</th>\n",
       "      <th>WindGustDir</th>\n",
       "      <th>WindGustSpeed</th>\n",
       "      <th>WindDir9am</th>\n",
       "      <th>WindDir3pm</th>\n",
       "      <th>WindSpeed9am</th>\n",
       "      <th>WindSpeed3pm</th>\n",
       "      <th>Humidity9am</th>\n",
       "      <th>Humidity3pm</th>\n",
       "      <th>Pressure9am</th>\n",
       "      <th>Pressure3pm</th>\n",
       "      <th>Temp9am</th>\n",
       "      <th>Temp3pm</th>\n",
       "      <th>RainToday</th>\n",
       "    </tr>\n",
       "  </thead>\n",
       "  <tbody>\n",
       "    <tr>\n",
       "      <th>18674</th>\n",
       "      <td>16.6</td>\n",
       "      <td>21.5</td>\n",
       "      <td>8.0</td>\n",
       "      <td>4</td>\n",
       "      <td>67.000000</td>\n",
       "      <td>14</td>\n",
       "      <td>14</td>\n",
       "      <td>2.0</td>\n",
       "      <td>15.000000</td>\n",
       "      <td>91.0</td>\n",
       "      <td>87.000000</td>\n",
       "      <td>1011.000000</td>\n",
       "      <td>1008.400000</td>\n",
       "      <td>19.2</td>\n",
       "      <td>20.500000</td>\n",
       "      <td>1</td>\n",
       "    </tr>\n",
       "    <tr>\n",
       "      <th>90892</th>\n",
       "      <td>24.3</td>\n",
       "      <td>27.8</td>\n",
       "      <td>95.2</td>\n",
       "      <td>3</td>\n",
       "      <td>37.000000</td>\n",
       "      <td>3</td>\n",
       "      <td>3</td>\n",
       "      <td>9.0</td>\n",
       "      <td>24.000000</td>\n",
       "      <td>94.0</td>\n",
       "      <td>94.000000</td>\n",
       "      <td>1007.200000</td>\n",
       "      <td>1006.200000</td>\n",
       "      <td>25.7</td>\n",
       "      <td>25.500000</td>\n",
       "      <td>1</td>\n",
       "    </tr>\n",
       "    <tr>\n",
       "      <th>110527</th>\n",
       "      <td>9.4</td>\n",
       "      <td>15.6</td>\n",
       "      <td>15.0</td>\n",
       "      <td>11</td>\n",
       "      <td>81.000000</td>\n",
       "      <td>10</td>\n",
       "      <td>5</td>\n",
       "      <td>19.0</td>\n",
       "      <td>17.000000</td>\n",
       "      <td>77.0</td>\n",
       "      <td>73.000000</td>\n",
       "      <td>1007.500000</td>\n",
       "      <td>1001.900000</td>\n",
       "      <td>13.0</td>\n",
       "      <td>13.900000</td>\n",
       "      <td>1</td>\n",
       "    </tr>\n",
       "    <tr>\n",
       "      <th>17399</th>\n",
       "      <td>4.8</td>\n",
       "      <td>17.0</td>\n",
       "      <td>3.2</td>\n",
       "      <td>5</td>\n",
       "      <td>39.009214</td>\n",
       "      <td>12</td>\n",
       "      <td>14</td>\n",
       "      <td>0.0</td>\n",
       "      <td>18.155859</td>\n",
       "      <td>67.0</td>\n",
       "      <td>51.482606</td>\n",
       "      <td>1017.757684</td>\n",
       "      <td>1015.322676</td>\n",
       "      <td>11.2</td>\n",
       "      <td>21.688981</td>\n",
       "      <td>1</td>\n",
       "    </tr>\n",
       "    <tr>\n",
       "      <th>83032</th>\n",
       "      <td>14.9</td>\n",
       "      <td>24.9</td>\n",
       "      <td>0.0</td>\n",
       "      <td>14</td>\n",
       "      <td>39.000000</td>\n",
       "      <td>4</td>\n",
       "      <td>14</td>\n",
       "      <td>7.0</td>\n",
       "      <td>9.000000</td>\n",
       "      <td>61.0</td>\n",
       "      <td>69.000000</td>\n",
       "      <td>1027.900000</td>\n",
       "      <td>1026.400000</td>\n",
       "      <td>21.1</td>\n",
       "      <td>21.000000</td>\n",
       "      <td>0</td>\n",
       "    </tr>\n",
       "  </tbody>\n",
       "</table>\n",
       "</div>"
      ],
      "text/plain": [
       "        MinTemp  MaxTemp  Rainfall  WindGustDir  WindGustSpeed  WindDir9am  \\\n",
       "18674      16.6     21.5       8.0            4      67.000000          14   \n",
       "90892      24.3     27.8      95.2            3      37.000000           3   \n",
       "110527      9.4     15.6      15.0           11      81.000000          10   \n",
       "17399       4.8     17.0       3.2            5      39.009214          12   \n",
       "83032      14.9     24.9       0.0           14      39.000000           4   \n",
       "\n",
       "        WindDir3pm  WindSpeed9am  WindSpeed3pm  Humidity9am  Humidity3pm  \\\n",
       "18674           14           2.0     15.000000         91.0    87.000000   \n",
       "90892            3           9.0     24.000000         94.0    94.000000   \n",
       "110527           5          19.0     17.000000         77.0    73.000000   \n",
       "17399           14           0.0     18.155859         67.0    51.482606   \n",
       "83032           14           7.0      9.000000         61.0    69.000000   \n",
       "\n",
       "        Pressure9am  Pressure3pm  Temp9am    Temp3pm  RainToday  \n",
       "18674   1011.000000  1008.400000     19.2  20.500000          1  \n",
       "90892   1007.200000  1006.200000     25.7  25.500000          1  \n",
       "110527  1007.500000  1001.900000     13.0  13.900000          1  \n",
       "17399   1017.757684  1015.322676     11.2  21.688981          1  \n",
       "83032   1027.900000  1026.400000     21.1  21.000000          0  "
      ]
     },
     "execution_count": 12,
     "metadata": {},
     "output_type": "execute_result"
    }
   ],
   "source": [
    "# CONVERTING CATEGORICAL DATA TO NUMERICAL DATA\n",
    "data, col, labels = categorical_to_numerical(data)\n",
    "data.head()"
   ]
  },
  {
   "cell_type": "code",
   "execution_count": 13,
   "metadata": {},
   "outputs": [
    {
     "data": {
      "text/html": [
       "<div>\n",
       "<style scoped>\n",
       "    .dataframe tbody tr th:only-of-type {\n",
       "        vertical-align: middle;\n",
       "    }\n",
       "\n",
       "    .dataframe tbody tr th {\n",
       "        vertical-align: top;\n",
       "    }\n",
       "\n",
       "    .dataframe thead tr th {\n",
       "        text-align: left;\n",
       "    }\n",
       "</style>\n",
       "<table border=\"1\" class=\"dataframe\">\n",
       "  <thead>\n",
       "    <tr>\n",
       "      <th></th>\n",
       "      <th>MinTemp</th>\n",
       "      <th>MaxTemp</th>\n",
       "      <th>Rainfall</th>\n",
       "      <th>WindGustDir</th>\n",
       "      <th>WindGustSpeed</th>\n",
       "      <th>WindDir9am</th>\n",
       "      <th>WindDir3pm</th>\n",
       "      <th>WindSpeed9am</th>\n",
       "      <th>WindSpeed3pm</th>\n",
       "      <th>Humidity9am</th>\n",
       "      <th>Humidity3pm</th>\n",
       "      <th>Pressure9am</th>\n",
       "      <th>Pressure3pm</th>\n",
       "      <th>Temp9am</th>\n",
       "      <th>Temp3pm</th>\n",
       "      <th>RainToday</th>\n",
       "    </tr>\n",
       "  </thead>\n",
       "  <tbody>\n",
       "    <tr>\n",
       "      <th>0</th>\n",
       "      <td>0.585132</td>\n",
       "      <td>0.502947</td>\n",
       "      <td>0.021563</td>\n",
       "      <td>0.200000</td>\n",
       "      <td>0.468750</td>\n",
       "      <td>0.866667</td>\n",
       "      <td>0.866667</td>\n",
       "      <td>0.015385</td>\n",
       "      <td>0.172414</td>\n",
       "      <td>0.91</td>\n",
       "      <td>0.870000</td>\n",
       "      <td>0.504967</td>\n",
       "      <td>0.509772</td>\n",
       "      <td>0.564655</td>\n",
       "      <td>0.500000</td>\n",
       "      <td>1.0</td>\n",
       "    </tr>\n",
       "    <tr>\n",
       "      <th>1</th>\n",
       "      <td>0.769784</td>\n",
       "      <td>0.626719</td>\n",
       "      <td>0.256604</td>\n",
       "      <td>0.133333</td>\n",
       "      <td>0.234375</td>\n",
       "      <td>0.133333</td>\n",
       "      <td>0.133333</td>\n",
       "      <td>0.069231</td>\n",
       "      <td>0.275862</td>\n",
       "      <td>0.94</td>\n",
       "      <td>0.940000</td>\n",
       "      <td>0.442053</td>\n",
       "      <td>0.473941</td>\n",
       "      <td>0.704741</td>\n",
       "      <td>0.597656</td>\n",
       "      <td>1.0</td>\n",
       "    </tr>\n",
       "    <tr>\n",
       "      <th>2</th>\n",
       "      <td>0.412470</td>\n",
       "      <td>0.387033</td>\n",
       "      <td>0.040431</td>\n",
       "      <td>0.666667</td>\n",
       "      <td>0.578125</td>\n",
       "      <td>0.600000</td>\n",
       "      <td>0.266667</td>\n",
       "      <td>0.146154</td>\n",
       "      <td>0.195402</td>\n",
       "      <td>0.77</td>\n",
       "      <td>0.730000</td>\n",
       "      <td>0.447020</td>\n",
       "      <td>0.403909</td>\n",
       "      <td>0.431034</td>\n",
       "      <td>0.371094</td>\n",
       "      <td>1.0</td>\n",
       "    </tr>\n",
       "    <tr>\n",
       "      <th>3</th>\n",
       "      <td>0.302158</td>\n",
       "      <td>0.414538</td>\n",
       "      <td>0.008625</td>\n",
       "      <td>0.266667</td>\n",
       "      <td>0.250072</td>\n",
       "      <td>0.733333</td>\n",
       "      <td>0.866667</td>\n",
       "      <td>0.000000</td>\n",
       "      <td>0.208688</td>\n",
       "      <td>0.67</td>\n",
       "      <td>0.514826</td>\n",
       "      <td>0.616849</td>\n",
       "      <td>0.622519</td>\n",
       "      <td>0.392241</td>\n",
       "      <td>0.523222</td>\n",
       "      <td>1.0</td>\n",
       "    </tr>\n",
       "    <tr>\n",
       "      <th>4</th>\n",
       "      <td>0.544365</td>\n",
       "      <td>0.569745</td>\n",
       "      <td>0.000000</td>\n",
       "      <td>0.866667</td>\n",
       "      <td>0.250000</td>\n",
       "      <td>0.200000</td>\n",
       "      <td>0.866667</td>\n",
       "      <td>0.053846</td>\n",
       "      <td>0.103448</td>\n",
       "      <td>0.61</td>\n",
       "      <td>0.690000</td>\n",
       "      <td>0.784768</td>\n",
       "      <td>0.802932</td>\n",
       "      <td>0.605603</td>\n",
       "      <td>0.509766</td>\n",
       "      <td>0.0</td>\n",
       "    </tr>\n",
       "  </tbody>\n",
       "</table>\n",
       "</div>"
      ],
      "text/plain": [
       "    MinTemp   MaxTemp  Rainfall WindGustDir WindGustSpeed WindDir9am  \\\n",
       "0  0.585132  0.502947  0.021563    0.200000      0.468750   0.866667   \n",
       "1  0.769784  0.626719  0.256604    0.133333      0.234375   0.133333   \n",
       "2  0.412470  0.387033  0.040431    0.666667      0.578125   0.600000   \n",
       "3  0.302158  0.414538  0.008625    0.266667      0.250072   0.733333   \n",
       "4  0.544365  0.569745  0.000000    0.866667      0.250000   0.200000   \n",
       "\n",
       "  WindDir3pm WindSpeed9am WindSpeed3pm Humidity9am Humidity3pm Pressure9am  \\\n",
       "0   0.866667     0.015385     0.172414        0.91    0.870000    0.504967   \n",
       "1   0.133333     0.069231     0.275862        0.94    0.940000    0.442053   \n",
       "2   0.266667     0.146154     0.195402        0.77    0.730000    0.447020   \n",
       "3   0.866667     0.000000     0.208688        0.67    0.514826    0.616849   \n",
       "4   0.866667     0.053846     0.103448        0.61    0.690000    0.784768   \n",
       "\n",
       "  Pressure3pm   Temp9am   Temp3pm RainToday  \n",
       "0    0.509772  0.564655  0.500000       1.0  \n",
       "1    0.473941  0.704741  0.597656       1.0  \n",
       "2    0.403909  0.431034  0.371094       1.0  \n",
       "3    0.622519  0.392241  0.523222       1.0  \n",
       "4    0.802932  0.605603  0.509766       0.0  "
      ]
     },
     "execution_count": 13,
     "metadata": {},
     "output_type": "execute_result"
    }
   ],
   "source": [
    "# FEATURE SCALING \n",
    "data = featureScaling(data, col)\n",
    "pd.DataFrame(data, columns = [col]).head()"
   ]
  },
  {
   "cell_type": "code",
   "execution_count": 14,
   "metadata": {},
   "outputs": [
    {
     "data": {
      "text/html": [
       "<div>\n",
       "<style scoped>\n",
       "    .dataframe tbody tr th:only-of-type {\n",
       "        vertical-align: middle;\n",
       "    }\n",
       "\n",
       "    .dataframe tbody tr th {\n",
       "        vertical-align: top;\n",
       "    }\n",
       "\n",
       "    .dataframe thead tr th {\n",
       "        text-align: left;\n",
       "    }\n",
       "</style>\n",
       "<table border=\"1\" class=\"dataframe\">\n",
       "  <thead>\n",
       "    <tr>\n",
       "      <th></th>\n",
       "      <th>MinTemp</th>\n",
       "      <th>MaxTemp</th>\n",
       "      <th>Rainfall</th>\n",
       "      <th>WindGustDir</th>\n",
       "      <th>WindGustSpeed</th>\n",
       "      <th>WindDir9am</th>\n",
       "      <th>WindDir3pm</th>\n",
       "      <th>WindSpeed9am</th>\n",
       "      <th>WindSpeed3pm</th>\n",
       "      <th>Humidity9am</th>\n",
       "      <th>Humidity3pm</th>\n",
       "      <th>Pressure9am</th>\n",
       "      <th>Pressure3pm</th>\n",
       "      <th>Temp9am</th>\n",
       "      <th>Temp3pm</th>\n",
       "      <th>RainToday</th>\n",
       "    </tr>\n",
       "  </thead>\n",
       "  <tbody>\n",
       "    <tr>\n",
       "      <th>count</th>\n",
       "      <td>63754.000000</td>\n",
       "      <td>63754.000000</td>\n",
       "      <td>63754.000000</td>\n",
       "      <td>63754.000000</td>\n",
       "      <td>63754.000000</td>\n",
       "      <td>63754.000000</td>\n",
       "      <td>63754.000000</td>\n",
       "      <td>63754.000000</td>\n",
       "      <td>63754.000000</td>\n",
       "      <td>63754.000000</td>\n",
       "      <td>63754.000000</td>\n",
       "      <td>63754.000000</td>\n",
       "      <td>63754.000000</td>\n",
       "      <td>63754.000000</td>\n",
       "      <td>63754.000000</td>\n",
       "      <td>63754.000000</td>\n",
       "    </tr>\n",
       "    <tr>\n",
       "      <th>mean</th>\n",
       "      <td>0.488343</td>\n",
       "      <td>0.522476</td>\n",
       "      <td>0.009815</td>\n",
       "      <td>0.488372</td>\n",
       "      <td>0.272352</td>\n",
       "      <td>0.532244</td>\n",
       "      <td>0.510797</td>\n",
       "      <td>0.111846</td>\n",
       "      <td>0.219550</td>\n",
       "      <td>0.720524</td>\n",
       "      <td>0.574756</td>\n",
       "      <td>0.597756</td>\n",
       "      <td>0.605932</td>\n",
       "      <td>0.514974</td>\n",
       "      <td>0.506604</td>\n",
       "      <td>0.305142</td>\n",
       "    </tr>\n",
       "    <tr>\n",
       "      <th>std</th>\n",
       "      <td>0.152864</td>\n",
       "      <td>0.139941</td>\n",
       "      <td>0.029485</td>\n",
       "      <td>0.307581</td>\n",
       "      <td>0.110715</td>\n",
       "      <td>0.300119</td>\n",
       "      <td>0.314079</td>\n",
       "      <td>0.070347</td>\n",
       "      <td>0.104609</td>\n",
       "      <td>0.184685</td>\n",
       "      <td>0.215765</td>\n",
       "      <td>0.115182</td>\n",
       "      <td>0.112289</td>\n",
       "      <td>0.138522</td>\n",
       "      <td>0.134582</td>\n",
       "      <td>0.460471</td>\n",
       "    </tr>\n",
       "    <tr>\n",
       "      <th>min</th>\n",
       "      <td>0.000000</td>\n",
       "      <td>0.000000</td>\n",
       "      <td>0.000000</td>\n",
       "      <td>0.000000</td>\n",
       "      <td>0.000000</td>\n",
       "      <td>0.000000</td>\n",
       "      <td>0.000000</td>\n",
       "      <td>0.000000</td>\n",
       "      <td>0.000000</td>\n",
       "      <td>0.000000</td>\n",
       "      <td>0.000000</td>\n",
       "      <td>0.000000</td>\n",
       "      <td>0.000000</td>\n",
       "      <td>0.000000</td>\n",
       "      <td>0.000000</td>\n",
       "      <td>0.000000</td>\n",
       "    </tr>\n",
       "    <tr>\n",
       "      <th>25%</th>\n",
       "      <td>0.378897</td>\n",
       "      <td>0.418468</td>\n",
       "      <td>0.000000</td>\n",
       "      <td>0.266667</td>\n",
       "      <td>0.187500</td>\n",
       "      <td>0.266667</td>\n",
       "      <td>0.266667</td>\n",
       "      <td>0.053846</td>\n",
       "      <td>0.149425</td>\n",
       "      <td>0.610000</td>\n",
       "      <td>0.430000</td>\n",
       "      <td>0.526490</td>\n",
       "      <td>0.534202</td>\n",
       "      <td>0.413793</td>\n",
       "      <td>0.408203</td>\n",
       "      <td>0.000000</td>\n",
       "    </tr>\n",
       "    <tr>\n",
       "      <th>50%</th>\n",
       "      <td>0.482014</td>\n",
       "      <td>0.508841</td>\n",
       "      <td>0.000000</td>\n",
       "      <td>0.466667</td>\n",
       "      <td>0.250072</td>\n",
       "      <td>0.600000</td>\n",
       "      <td>0.533333</td>\n",
       "      <td>0.100000</td>\n",
       "      <td>0.218391</td>\n",
       "      <td>0.730000</td>\n",
       "      <td>0.580000</td>\n",
       "      <td>0.612583</td>\n",
       "      <td>0.620521</td>\n",
       "      <td>0.508621</td>\n",
       "      <td>0.496094</td>\n",
       "      <td>0.000000</td>\n",
       "    </tr>\n",
       "    <tr>\n",
       "      <th>75%</th>\n",
       "      <td>0.599520</td>\n",
       "      <td>0.620825</td>\n",
       "      <td>0.005930</td>\n",
       "      <td>0.733333</td>\n",
       "      <td>0.335938</td>\n",
       "      <td>0.733333</td>\n",
       "      <td>0.800000</td>\n",
       "      <td>0.153846</td>\n",
       "      <td>0.275862</td>\n",
       "      <td>0.870000</td>\n",
       "      <td>0.730000</td>\n",
       "      <td>0.667219</td>\n",
       "      <td>0.674267</td>\n",
       "      <td>0.612069</td>\n",
       "      <td>0.595703</td>\n",
       "      <td>1.000000</td>\n",
       "    </tr>\n",
       "    <tr>\n",
       "      <th>max</th>\n",
       "      <td>1.000000</td>\n",
       "      <td>1.000000</td>\n",
       "      <td>1.000000</td>\n",
       "      <td>1.000000</td>\n",
       "      <td>1.000000</td>\n",
       "      <td>1.000000</td>\n",
       "      <td>1.000000</td>\n",
       "      <td>1.000000</td>\n",
       "      <td>1.000000</td>\n",
       "      <td>1.000000</td>\n",
       "      <td>1.000000</td>\n",
       "      <td>1.000000</td>\n",
       "      <td>1.000000</td>\n",
       "      <td>1.000000</td>\n",
       "      <td>1.000000</td>\n",
       "      <td>1.000000</td>\n",
       "    </tr>\n",
       "  </tbody>\n",
       "</table>\n",
       "</div>"
      ],
      "text/plain": [
       "            MinTemp       MaxTemp      Rainfall   WindGustDir WindGustSpeed  \\\n",
       "count  63754.000000  63754.000000  63754.000000  63754.000000  63754.000000   \n",
       "mean       0.488343      0.522476      0.009815      0.488372      0.272352   \n",
       "std        0.152864      0.139941      0.029485      0.307581      0.110715   \n",
       "min        0.000000      0.000000      0.000000      0.000000      0.000000   \n",
       "25%        0.378897      0.418468      0.000000      0.266667      0.187500   \n",
       "50%        0.482014      0.508841      0.000000      0.466667      0.250072   \n",
       "75%        0.599520      0.620825      0.005930      0.733333      0.335938   \n",
       "max        1.000000      1.000000      1.000000      1.000000      1.000000   \n",
       "\n",
       "         WindDir9am    WindDir3pm  WindSpeed9am  WindSpeed3pm   Humidity9am  \\\n",
       "count  63754.000000  63754.000000  63754.000000  63754.000000  63754.000000   \n",
       "mean       0.532244      0.510797      0.111846      0.219550      0.720524   \n",
       "std        0.300119      0.314079      0.070347      0.104609      0.184685   \n",
       "min        0.000000      0.000000      0.000000      0.000000      0.000000   \n",
       "25%        0.266667      0.266667      0.053846      0.149425      0.610000   \n",
       "50%        0.600000      0.533333      0.100000      0.218391      0.730000   \n",
       "75%        0.733333      0.800000      0.153846      0.275862      0.870000   \n",
       "max        1.000000      1.000000      1.000000      1.000000      1.000000   \n",
       "\n",
       "        Humidity3pm   Pressure9am   Pressure3pm       Temp9am       Temp3pm  \\\n",
       "count  63754.000000  63754.000000  63754.000000  63754.000000  63754.000000   \n",
       "mean       0.574756      0.597756      0.605932      0.514974      0.506604   \n",
       "std        0.215765      0.115182      0.112289      0.138522      0.134582   \n",
       "min        0.000000      0.000000      0.000000      0.000000      0.000000   \n",
       "25%        0.430000      0.526490      0.534202      0.413793      0.408203   \n",
       "50%        0.580000      0.612583      0.620521      0.508621      0.496094   \n",
       "75%        0.730000      0.667219      0.674267      0.612069      0.595703   \n",
       "max        1.000000      1.000000      1.000000      1.000000      1.000000   \n",
       "\n",
       "          RainToday  \n",
       "count  63754.000000  \n",
       "mean       0.305142  \n",
       "std        0.460471  \n",
       "min        0.000000  \n",
       "25%        0.000000  \n",
       "50%        0.000000  \n",
       "75%        1.000000  \n",
       "max        1.000000  "
      ]
     },
     "execution_count": 14,
     "metadata": {},
     "output_type": "execute_result"
    }
   ],
   "source": [
    "# DATA DESCRIBE AFTER FEATURE SCALING\n",
    "pd.DataFrame(data, columns = [col]).describe()"
   ]
  },
  {
   "cell_type": "markdown",
   "metadata": {},
   "source": [
    "# 4. 1D CNN TRAINING FUNCTION WITH OPTUNA"
   ]
  },
  {
   "cell_type": "code",
   "execution_count": 21,
   "metadata": {},
   "outputs": [],
   "source": [
    "# Objective function of Optuna. Optuna is used to decide best hyperparameters.\n",
    "def objective(trial):\n",
    "    # Clear clutter from previous Keras session graphs.\n",
    "    clear_session()\n",
    "    \n",
    "    global model_list\n",
    "    global test\n",
    "    global test_label\n",
    "    \n",
    "    train, test, train_label, test_label = divideTrainTest(data, labels)\n",
    "    train, test, train_label, test_label = preparingDataforCNN(train, test, train_label, test_label)\n",
    "    \n",
    "    \n",
    "    set1 = [128, 64, 32]\n",
    "    set2 = [64, 32, 16]\n",
    "    set3 = [16, 32, 64]\n",
    "    true_set = []\n",
    "    sets = trial.suggest_categorical(\"filters\", [\"set1\", \"set2\", \"set3\"])\n",
    "    if(sets == \"set1\"):\n",
    "        true_set = set1\n",
    "    elif(sets == \"set2\"):\n",
    "        true_set = set2\n",
    "    elif(sets == \"set3\"):\n",
    "        true_set = set3\n",
    "        \n",
    "    model = Sequential()\n",
    "    \n",
    "    model.add(\n",
    "        Conv1D(\n",
    "            filters = true_set[0],\n",
    "            kernel_size = trial.suggest_categorical(\"kernel_size1\", [5, 7]),\n",
    "            strides = trial.suggest_categorical(\"strides1\", [1, 2]),\n",
    "            activation = trial.suggest_categorical(\"activation1\", [\"relu\", \"linear\"]),\n",
    "            padding='same',\n",
    "            input_shape = (train[0].shape)\n",
    "        )\n",
    "    )\n",
    "    \n",
    "    model.add(AveragePooling1D(pool_size = 2, strides=None))\n",
    "    \n",
    "    dropout_rate = trial.suggest_float(\"rate1\", 0.1, 0.3, log=True)\n",
    "    model.add(Dropout(dropout_rate))\n",
    "    \n",
    "    model.add(\n",
    "        Conv1D(\n",
    "            filters = true_set[1],\n",
    "            kernel_size = trial.suggest_categorical(\"kernel_size2\", [3, 5]),\n",
    "            strides = trial.suggest_categorical(\"strides2\", [1, 2]),\n",
    "            activation = trial.suggest_categorical(\"activation2\", [\"relu\", \"linear\"]),\n",
    "            padding='same'\n",
    "        )\n",
    "    )\n",
    "    \n",
    "    model.add(AveragePooling1D(pool_size = 2, strides=None))\n",
    "    \n",
    "    dropout_rate2 = trial.suggest_float(\"rate2\", 0.1, 0.3, log=True)\n",
    "    model.add(Dropout(dropout_rate2))\n",
    "    \n",
    "    model.add(\n",
    "        Conv1D(\n",
    "            filters = true_set[2],\n",
    "            kernel_size = trial.suggest_categorical(\"kernel_size3\", [3]),\n",
    "            strides = trial.suggest_categorical(\"strides3\", [1, 2]),\n",
    "            activation = trial.suggest_categorical(\"activation3\", [\"relu\", \"linear\"]),\n",
    "            padding='same'\n",
    "        )\n",
    "    )\n",
    "        \n",
    "    model.add(Flatten())\n",
    "    \n",
    "    units = trial.suggest_int('unit1', 30, 50)\n",
    "    model.add(Dense(units, activation='relu'))\n",
    "    \n",
    "    units2 = trial.suggest_int('unit2', 10, 20)\n",
    "    model.add(Dense(units2, activation='relu'))\n",
    "    \n",
    "    model.add(Dense(2, activation='softmax'))\n",
    "    \n",
    "    \n",
    "    lr = trial.suggest_float(\"lr\", 1e-5, 1e-2, log=True)\n",
    "    optimizer_1 = optimizers.Adam(lr = lr)\n",
    "    optimizer_2 = optimizers.SGD(lr = lr)\n",
    "    optimizer_3 = optimizers.RMSprop(lr = lr)\n",
    "    optimizer = trial.suggest_categorical(\"optimizer\", [\"Adam\", \"SGD\", \"RMSprop\"]) \n",
    "    if (optimizer == \"Adam\"):\n",
    "        optimizer = optimizer_1\n",
    "    elif (optimizer == \"SGD\"):\n",
    "        optimizer = optimizer_2\n",
    "    else:\n",
    "        optimizer = optimizer_3\n",
    "    \n",
    "    model.compile(\n",
    "        optimizer = optimizer,\n",
    "        loss = 'binary_crossentropy',\n",
    "        metrics = ['accuracy'],\n",
    "    )\n",
    "    \n",
    "    earlystop_patience = trial.suggest_int('early stop patience', 5, 20)\n",
    "    es = EarlyStopping(monitor='val_loss', mode='min', patience=earlystop_patience,  restore_best_weights=True)\n",
    "\n",
    "    model.fit(train, train_label, epochs=100, validation_data=(test,test_label), batch_size=32, callbacks=[es], verbose=0)\n",
    "\n",
    "    loss, acc = model.evaluate(test, test_label, verbose=0)\n",
    "    \n",
    "    model_list.append(acc)\n",
    "    model_save(model, model_list, acc)\n",
    "   \n",
    "    return acc    \n",
    "\n",
    "def model_save(model, model_list, acc):\n",
    "    if acc >= max(model_list):\n",
    "        model.save(\"model\\\\best_model.h5\")"
   ]
  },
  {
   "cell_type": "markdown",
   "metadata": {},
   "source": [
    "# 5. 1D CNN TRAINING / RESULTS"
   ]
  },
  {
   "cell_type": "code",
   "execution_count": 16,
   "metadata": {},
   "outputs": [
    {
     "name": "stderr",
     "output_type": "stream",
     "text": [
      "\u001b[32m[I 2021-12-13 23:57:28,258]\u001b[0m A new study created in memory with name: no-name-db39338c-fe3d-439e-9954-9de6a40a177d\u001b[0m\n"
     ]
    },
    {
     "name": "stdout",
     "output_type": "stream",
     "text": [
      "WARNING:tensorflow:From C:\\Users\\Burla Nur\\Anaconda3\\envs\\my_env\\lib\\site-packages\\tensorflow\\python\\ops\\init_ops.py:1251: calling VarianceScaling.__init__ (from tensorflow.python.ops.init_ops) with dtype is deprecated and will be removed in a future version.\n",
      "Instructions for updating:\n",
      "Call initializer instance with the dtype argument instead of passing it to the constructor\n",
      "WARNING:tensorflow:From C:\\Users\\Burla Nur\\Anaconda3\\envs\\my_env\\lib\\site-packages\\tensorflow\\python\\ops\\math_grad.py:1250: add_dispatch_support.<locals>.wrapper (from tensorflow.python.ops.array_ops) is deprecated and will be removed in a future version.\n",
      "Instructions for updating:\n",
      "Use tf.where in 2.0, which has the same broadcast rule as np.where\n"
     ]
    },
    {
     "name": "stderr",
     "output_type": "stream",
     "text": [
      "\u001b[32m[I 2021-12-14 00:00:00,756]\u001b[0m Trial 0 finished with value: 0.7615283131599426 and parameters: {'filters': 'set1', 'kernel_size1': 5, 'strides1': 1, 'activation1': 'linear', 'rate1': 0.28357925474380036, 'kernel_size2': 3, 'strides2': 1, 'activation2': 'relu', 'rate2': 0.2897774215056033, 'kernel_size3': 3, 'strides3': 1, 'activation3': 'linear', 'unit1': 37, 'unit2': 17, 'lr': 0.003296102181512506, 'optimizer': 'RMSprop', 'early stop patience': 13}. Best is trial 0 with value: 0.7615283131599426.\u001b[0m\n",
      "\u001b[32m[I 2021-12-14 00:04:35,309]\u001b[0m Trial 1 finished with value: 0.759834349155426 and parameters: {'filters': 'set1', 'kernel_size1': 7, 'strides1': 1, 'activation1': 'linear', 'rate1': 0.19967667653039092, 'kernel_size2': 3, 'strides2': 2, 'activation2': 'linear', 'rate2': 0.23221578574239043, 'kernel_size3': 3, 'strides3': 1, 'activation3': 'linear', 'unit1': 44, 'unit2': 12, 'lr': 0.004311895564327837, 'optimizer': 'Adam', 'early stop patience': 16}. Best is trial 0 with value: 0.7615283131599426.\u001b[0m\n",
      "\u001b[32m[I 2021-12-14 00:25:14,654]\u001b[0m Trial 2 finished with value: 0.7736997008323669 and parameters: {'filters': 'set1', 'kernel_size1': 7, 'strides1': 2, 'activation1': 'relu', 'rate1': 0.11588673984671384, 'kernel_size2': 3, 'strides2': 1, 'activation2': 'linear', 'rate2': 0.10616954317369255, 'kernel_size3': 3, 'strides3': 1, 'activation3': 'linear', 'unit1': 31, 'unit2': 15, 'lr': 0.0020100266815464185, 'optimizer': 'SGD', 'early stop patience': 13}. Best is trial 2 with value: 0.7736997008323669.\u001b[0m\n",
      "\u001b[32m[I 2021-12-14 00:44:59,365]\u001b[0m Trial 3 finished with value: 0.713219165802002 and parameters: {'filters': 'set2', 'kernel_size1': 7, 'strides1': 1, 'activation1': 'relu', 'rate1': 0.21060748096736392, 'kernel_size2': 3, 'strides2': 1, 'activation2': 'relu', 'rate2': 0.14466721793366358, 'kernel_size3': 3, 'strides3': 1, 'activation3': 'relu', 'unit1': 35, 'unit2': 15, 'lr': 6.383922313635416e-05, 'optimizer': 'SGD', 'early stop patience': 5}. Best is trial 2 with value: 0.7736997008323669.\u001b[0m\n",
      "\u001b[32m[I 2021-12-14 00:53:29,567]\u001b[0m Trial 4 finished with value: 0.7741389274597168 and parameters: {'filters': 'set1', 'kernel_size1': 5, 'strides1': 1, 'activation1': 'linear', 'rate1': 0.2906055639735305, 'kernel_size2': 5, 'strides2': 2, 'activation2': 'relu', 'rate2': 0.1295853487764864, 'kernel_size3': 3, 'strides3': 1, 'activation3': 'linear', 'unit1': 32, 'unit2': 12, 'lr': 0.00293817671741035, 'optimizer': 'Adam', 'early stop patience': 15}. Best is trial 4 with value: 0.7741389274597168.\u001b[0m\n",
      "\u001b[32m[I 2021-12-14 00:57:55,969]\u001b[0m Trial 5 finished with value: 0.7750799655914307 and parameters: {'filters': 'set1', 'kernel_size1': 5, 'strides1': 2, 'activation1': 'linear', 'rate1': 0.26638588254815443, 'kernel_size2': 5, 'strides2': 2, 'activation2': 'relu', 'rate2': 0.2663004020137585, 'kernel_size3': 3, 'strides3': 1, 'activation3': 'linear', 'unit1': 41, 'unit2': 13, 'lr': 0.0014762752878580711, 'optimizer': 'Adam', 'early stop patience': 9}. Best is trial 5 with value: 0.7750799655914307.\u001b[0m\n",
      "\u001b[32m[I 2021-12-14 01:18:35,438]\u001b[0m Trial 6 finished with value: 0.6594516634941101 and parameters: {'filters': 'set2', 'kernel_size1': 5, 'strides1': 2, 'activation1': 'linear', 'rate1': 0.27149200071981905, 'kernel_size2': 5, 'strides2': 2, 'activation2': 'relu', 'rate2': 0.11781411894990412, 'kernel_size3': 3, 'strides3': 2, 'activation3': 'relu', 'unit1': 41, 'unit2': 17, 'lr': 5.2203157517132904e-05, 'optimizer': 'SGD', 'early stop patience': 11}. Best is trial 5 with value: 0.7750799655914307.\u001b[0m\n",
      "\u001b[32m[I 2021-12-14 01:20:11,288]\u001b[0m Trial 7 finished with value: 0.7615910768508911 and parameters: {'filters': 'set2', 'kernel_size1': 5, 'strides1': 2, 'activation1': 'linear', 'rate1': 0.269272476090414, 'kernel_size2': 5, 'strides2': 1, 'activation2': 'linear', 'rate2': 0.13393421234699046, 'kernel_size3': 3, 'strides3': 2, 'activation3': 'relu', 'unit1': 34, 'unit2': 14, 'lr': 0.0007257480774619037, 'optimizer': 'RMSprop', 'early stop patience': 5}. Best is trial 5 with value: 0.7750799655914307.\u001b[0m\n",
      "\u001b[32m[I 2021-12-14 01:30:20,467]\u001b[0m Trial 8 finished with value: 0.780224621295929 and parameters: {'filters': 'set2', 'kernel_size1': 5, 'strides1': 1, 'activation1': 'relu', 'rate1': 0.26745262594326313, 'kernel_size2': 3, 'strides2': 2, 'activation2': 'relu', 'rate2': 0.1093451270160584, 'kernel_size3': 3, 'strides3': 1, 'activation3': 'relu', 'unit1': 46, 'unit2': 11, 'lr': 0.0006548317380824478, 'optimizer': 'Adam', 'early stop patience': 10}. Best is trial 8 with value: 0.780224621295929.\u001b[0m\n",
      "\u001b[32m[I 2021-12-14 01:37:29,177]\u001b[0m Trial 9 finished with value: 0.7741389274597168 and parameters: {'filters': 'set3', 'kernel_size1': 7, 'strides1': 2, 'activation1': 'relu', 'rate1': 0.14116182277440023, 'kernel_size2': 3, 'strides2': 1, 'activation2': 'relu', 'rate2': 0.1744704539699675, 'kernel_size3': 3, 'strides3': 2, 'activation3': 'linear', 'unit1': 34, 'unit2': 15, 'lr': 0.001691303355602897, 'optimizer': 'RMSprop', 'early stop patience': 15}. Best is trial 8 with value: 0.780224621295929.\u001b[0m\n",
      "\u001b[32m[I 2021-12-14 01:59:16,003]\u001b[0m Trial 10 finished with value: 0.7792835235595703 and parameters: {'filters': 'set3', 'kernel_size1': 5, 'strides1': 1, 'activation1': 'relu', 'rate1': 0.16468082737700868, 'kernel_size2': 3, 'strides2': 2, 'activation2': 'linear', 'rate2': 0.1899335502119961, 'kernel_size3': 3, 'strides3': 2, 'activation3': 'relu', 'unit1': 50, 'unit2': 10, 'lr': 0.00021414241014485497, 'optimizer': 'Adam', 'early stop patience': 20}. Best is trial 8 with value: 0.780224621295929.\u001b[0m\n",
      "\u001b[32m[I 2021-12-14 02:20:19,065]\u001b[0m Trial 11 finished with value: 0.7779032588005066 and parameters: {'filters': 'set3', 'kernel_size1': 5, 'strides1': 1, 'activation1': 'relu', 'rate1': 0.16394431367968734, 'kernel_size2': 3, 'strides2': 2, 'activation2': 'linear', 'rate2': 0.18681132417143514, 'kernel_size3': 3, 'strides3': 2, 'activation3': 'relu', 'unit1': 50, 'unit2': 10, 'lr': 0.00018694102607673892, 'optimizer': 'Adam', 'early stop patience': 20}. Best is trial 8 with value: 0.780224621295929.\u001b[0m\n",
      "\u001b[32m[I 2021-12-14 02:37:06,195]\u001b[0m Trial 12 finished with value: 0.7749544978141785 and parameters: {'filters': 'set3', 'kernel_size1': 5, 'strides1': 1, 'activation1': 'relu', 'rate1': 0.15612355438994865, 'kernel_size2': 3, 'strides2': 2, 'activation2': 'linear', 'rate2': 0.20229938211601756, 'kernel_size3': 3, 'strides3': 2, 'activation3': 'relu', 'unit1': 50, 'unit2': 10, 'lr': 0.0002705028420130626, 'optimizer': 'Adam', 'early stop patience': 19}. Best is trial 8 with value: 0.780224621295929.\u001b[0m\n",
      "\u001b[32m[I 2021-12-14 02:58:04,686]\u001b[0m Trial 13 finished with value: 0.7602735161781311 and parameters: {'filters': 'set3', 'kernel_size1': 5, 'strides1': 1, 'activation1': 'relu', 'rate1': 0.20937079137751913, 'kernel_size2': 3, 'strides2': 2, 'activation2': 'linear', 'rate2': 0.15238361837249428, 'kernel_size3': 3, 'strides3': 2, 'activation3': 'relu', 'unit1': 46, 'unit2': 19, 'lr': 1.0313173595292186e-05, 'optimizer': 'Adam', 'early stop patience': 9}. Best is trial 8 with value: 0.780224621295929.\u001b[0m\n",
      "\u001b[32m[I 2021-12-14 03:01:05,613]\u001b[0m Trial 14 finished with value: 0.7654808759689331 and parameters: {'filters': 'set2', 'kernel_size1': 5, 'strides1': 1, 'activation1': 'relu', 'rate1': 0.10286915473749143, 'kernel_size2': 3, 'strides2': 2, 'activation2': 'relu', 'rate2': 0.2151910629016802, 'kernel_size3': 3, 'strides3': 1, 'activation3': 'relu', 'unit1': 46, 'unit2': 11, 'lr': 0.009359990388611917, 'optimizer': 'Adam', 'early stop patience': 8}. Best is trial 8 with value: 0.780224621295929.\u001b[0m\n",
      "\u001b[32m[I 2021-12-14 03:21:59,303]\u001b[0m Trial 15 finished with value: 0.7787815928459167 and parameters: {'filters': 'set3', 'kernel_size1': 5, 'strides1': 1, 'activation1': 'relu', 'rate1': 0.1865802103248287, 'kernel_size2': 3, 'strides2': 2, 'activation2': 'linear', 'rate2': 0.10008320251482397, 'kernel_size3': 3, 'strides3': 2, 'activation3': 'relu', 'unit1': 47, 'unit2': 10, 'lr': 0.0006160376203333857, 'optimizer': 'Adam', 'early stop patience': 18}. Best is trial 8 with value: 0.780224621295929.\u001b[0m\n",
      "\u001b[32m[I 2021-12-14 03:43:36,021]\u001b[0m Trial 16 finished with value: 0.7788443565368652 and parameters: {'filters': 'set2', 'kernel_size1': 5, 'strides1': 1, 'activation1': 'relu', 'rate1': 0.23675794291999358, 'kernel_size2': 3, 'strides2': 2, 'activation2': 'linear', 'rate2': 0.16011541510164795, 'kernel_size3': 3, 'strides3': 1, 'activation3': 'relu', 'unit1': 43, 'unit2': 12, 'lr': 9.984338921581904e-05, 'optimizer': 'Adam', 'early stop patience': 11}. Best is trial 8 with value: 0.780224621295929.\u001b[0m\n"
     ]
    },
    {
     "name": "stderr",
     "output_type": "stream",
     "text": [
      "\u001b[32m[I 2021-12-14 04:00:04,109]\u001b[0m Trial 17 finished with value: 0.7803500890731812 and parameters: {'filters': 'set3', 'kernel_size1': 5, 'strides1': 1, 'activation1': 'relu', 'rate1': 0.1424184617769177, 'kernel_size2': 3, 'strides2': 2, 'activation2': 'relu', 'rate2': 0.24839959611764315, 'kernel_size3': 3, 'strides3': 2, 'activation3': 'relu', 'unit1': 48, 'unit2': 13, 'lr': 0.0005390428220071413, 'optimizer': 'Adam', 'early stop patience': 17}. Best is trial 17 with value: 0.7803500890731812.\u001b[0m\n",
      "\u001b[32m[I 2021-12-14 04:20:41,621]\u001b[0m Trial 18 finished with value: 0.7643516063690186 and parameters: {'filters': 'set2', 'kernel_size1': 7, 'strides1': 1, 'activation1': 'relu', 'rate1': 0.1348707323637692, 'kernel_size2': 5, 'strides2': 2, 'activation2': 'relu', 'rate2': 0.24533006223486692, 'kernel_size3': 3, 'strides3': 1, 'activation3': 'relu', 'unit1': 48, 'unit2': 13, 'lr': 0.0005867773433119664, 'optimizer': 'SGD', 'early stop patience': 17}. Best is trial 17 with value: 0.7803500890731812.\u001b[0m\n",
      "\u001b[32m[I 2021-12-14 04:42:37,412]\u001b[0m Trial 19 finished with value: 0.7718802690505981 and parameters: {'filters': 'set2', 'kernel_size1': 5, 'strides1': 1, 'activation1': 'relu', 'rate1': 0.12310137022355087, 'kernel_size2': 3, 'strides2': 2, 'activation2': 'relu', 'rate2': 0.11672098205047991, 'kernel_size3': 3, 'strides3': 2, 'activation3': 'relu', 'unit1': 38, 'unit2': 17, 'lr': 2.084914388928284e-05, 'optimizer': 'RMSprop', 'early stop patience': 7}. Best is trial 17 with value: 0.7803500890731812.\u001b[0m\n",
      "\u001b[32m[I 2021-12-14 04:51:44,143]\u001b[0m Trial 20 finished with value: 0.77620929479599 and parameters: {'filters': 'set3', 'kernel_size1': 5, 'strides1': 1, 'activation1': 'relu', 'rate1': 0.23885868420736223, 'kernel_size2': 3, 'strides2': 2, 'activation2': 'relu', 'rate2': 0.29871254710680406, 'kernel_size3': 3, 'strides3': 1, 'activation3': 'relu', 'unit1': 44, 'unit2': 13, 'lr': 0.0004931314266085993, 'optimizer': 'Adam', 'early stop patience': 12}. Best is trial 17 with value: 0.7803500890731812.\u001b[0m\n",
      "\u001b[32m[I 2021-12-14 05:13:45,142]\u001b[0m Trial 21 finished with value: 0.7772130966186523 and parameters: {'filters': 'set3', 'kernel_size1': 5, 'strides1': 1, 'activation1': 'relu', 'rate1': 0.1467372922771434, 'kernel_size2': 3, 'strides2': 2, 'activation2': 'relu', 'rate2': 0.19291532490301017, 'kernel_size3': 3, 'strides3': 2, 'activation3': 'relu', 'unit1': 49, 'unit2': 11, 'lr': 0.0001531149841555258, 'optimizer': 'Adam', 'early stop patience': 20}. Best is trial 17 with value: 0.7803500890731812.\u001b[0m\n",
      "\u001b[32m[I 2021-12-14 05:30:00,023]\u001b[0m Trial 22 finished with value: 0.7765229940414429 and parameters: {'filters': 'set3', 'kernel_size1': 5, 'strides1': 1, 'activation1': 'relu', 'rate1': 0.17339246389205548, 'kernel_size2': 3, 'strides2': 2, 'activation2': 'relu', 'rate2': 0.2248243434492426, 'kernel_size3': 3, 'strides3': 2, 'activation3': 'relu', 'unit1': 48, 'unit2': 11, 'lr': 0.0003185972057339779, 'optimizer': 'Adam', 'early stop patience': 18}. Best is trial 17 with value: 0.7803500890731812.\u001b[0m\n",
      "\u001b[32m[I 2021-12-14 05:51:18,392]\u001b[0m Trial 23 finished with value: 0.7800991535186768 and parameters: {'filters': 'set3', 'kernel_size1': 5, 'strides1': 1, 'activation1': 'relu', 'rate1': 0.17772109982363088, 'kernel_size2': 3, 'strides2': 2, 'activation2': 'linear', 'rate2': 0.263779069102916, 'kernel_size3': 3, 'strides3': 2, 'activation3': 'relu', 'unit1': 46, 'unit2': 11, 'lr': 0.0010047438647870731, 'optimizer': 'Adam', 'early stop patience': 14}. Best is trial 17 with value: 0.7803500890731812.\u001b[0m\n",
      "\u001b[32m[I 2021-12-14 06:10:00,399]\u001b[0m Trial 24 finished with value: 0.7817930579185486 and parameters: {'filters': 'set3', 'kernel_size1': 5, 'strides1': 1, 'activation1': 'relu', 'rate1': 0.1284103755120651, 'kernel_size2': 3, 'strides2': 2, 'activation2': 'relu', 'rate2': 0.25306738769867404, 'kernel_size3': 3, 'strides3': 2, 'activation3': 'relu', 'unit1': 45, 'unit2': 14, 'lr': 0.0010164598785666857, 'optimizer': 'Adam', 'early stop patience': 14}. Best is trial 24 with value: 0.7817930579185486.\u001b[0m\n"
     ]
    },
    {
     "name": "stdout",
     "output_type": "stream",
     "text": [
      "Number of finished trials: 25\n",
      "Best trial:\n",
      "  Value: 0.7817930579185486\n",
      "  Params: \n",
      "    filters: set3\n",
      "    kernel_size1: 5\n",
      "    strides1: 1\n",
      "    activation1: relu\n",
      "    rate1: 0.1284103755120651\n",
      "    kernel_size2: 3\n",
      "    strides2: 2\n",
      "    activation2: relu\n",
      "    rate2: 0.25306738769867404\n",
      "    kernel_size3: 3\n",
      "    strides3: 2\n",
      "    activation3: relu\n",
      "    unit1: 45\n",
      "    unit2: 14\n",
      "    lr: 0.0010164598785666857\n",
      "    optimizer: Adam\n",
      "    early stop patience: 14\n"
     ]
    }
   ],
   "source": [
    "model_list = []\n",
    "\n",
    "test = []\n",
    "test_label = []\n",
    "\n",
    "# 3 hours to find best parameters\n",
    "study = optuna.create_study(direction=\"maximize\")\n",
    "study.optimize(objective, n_trials=100, timeout=21600)\n",
    "\n",
    "print(\"Number of finished trials: {}\".format(len(study.trials)))\n",
    "\n",
    "print(\"Best trial:\")\n",
    "trial = study.best_trial\n",
    "\n",
    "print(\"  Value: {}\".format(trial.value))\n",
    "\n",
    "print(\"  Params: \")\n",
    "for key, value in trial.params.items():\n",
    "    print(\"    {}: {}\".format(key, value))"
   ]
  },
  {
   "cell_type": "code",
   "execution_count": 17,
   "metadata": {},
   "outputs": [
    {
     "name": "stdout",
     "output_type": "stream",
     "text": [
      "WARNING:tensorflow:From C:\\Users\\Burla Nur\\Anaconda3\\envs\\my_env\\lib\\site-packages\\tensorflow\\python\\ops\\init_ops.py:97: calling GlorotUniform.__init__ (from tensorflow.python.ops.init_ops) with dtype is deprecated and will be removed in a future version.\n",
      "Instructions for updating:\n",
      "Call initializer instance with the dtype argument instead of passing it to the constructor\n",
      "WARNING:tensorflow:From C:\\Users\\Burla Nur\\Anaconda3\\envs\\my_env\\lib\\site-packages\\tensorflow\\python\\ops\\init_ops.py:97: calling Zeros.__init__ (from tensorflow.python.ops.init_ops) with dtype is deprecated and will be removed in a future version.\n",
      "Instructions for updating:\n",
      "Call initializer instance with the dtype argument instead of passing it to the constructor\n",
      "loss: 0.4589816172913944\n",
      "acc: 0.78179306\n"
     ]
    }
   ],
   "source": [
    "# LOAD SAVED BEST MODEL\n",
    "model2 = models.load_model('model\\\\best_model.h5')\n",
    "loss, acc = model2.evaluate(test, test_label, verbose=0)\n",
    "print('loss:',loss)\n",
    "print('acc:',acc)"
   ]
  },
  {
   "cell_type": "code",
   "execution_count": 18,
   "metadata": {},
   "outputs": [
    {
     "name": "stderr",
     "output_type": "stream",
     "text": [
      "C:\\Users\\Burla Nur\\Anaconda3\\envs\\my_env\\lib\\site-packages\\sklearn\\utils\\deprecation.py:87: FutureWarning: Function plot_roc_curve is deprecated; This will be removed in v0.5.0. Please use scikitplot.metrics.plot_roc instead.\n",
      "  warnings.warn(msg, category=FutureWarning)\n"
     ]
    },
    {
     "data": {
      "image/png": "[encoded data removed]",
      "text/plain": [
       "<Figure size 432x288 with 1 Axes>"
      ]
     },
     "metadata": {
      "needs_background": "light"
     },
     "output_type": "display_data"
    }
   ],
   "source": [
    "# ROC CURVES\n",
    "y_true = test_label\n",
    "y_prob =  model2.predict(test)\n",
    "y_true = np.argmax(y_true, axis=1)       \n",
    "skplt.metrics.plot_roc_curve(y_true, y_prob)\n",
    "plt.show()"
   ]
  },
  {
   "cell_type": "code",
   "execution_count": 19,
   "metadata": {},
   "outputs": [
    {
     "data": {
      "image/png": "[encoded data removed]",
      "text/plain": [
       "<Figure size 720x504 with 2 Axes>"
      ]
     },
     "metadata": {
      "needs_background": "light"
     },
     "output_type": "display_data"
    }
   ],
   "source": [
    "# CONFUSION MATRIX   \n",
    "# 0 means No, 1 means Yes\n",
    "y_probs = []\n",
    "for i in range(len(test_label)):\n",
    "    if y_prob[i][0] > y_prob[i][1]:\n",
    "        y_probs.append(0)\n",
    "    elif y_prob[i][0] < y_prob[i][1]:\n",
    "        y_probs.append(1)\n",
    "\n",
    "matrix = confusion_matrix(y_true, y_probs, normalize='true') \n",
    "plt.figure(figsize = (10,7))\n",
    "ax = sns.heatmap(matrix, annot=True)\n",
    "ax.set(xlabel='predicted label', ylabel='true label')\n",
    "plt.show()"
   ]
  },
  {
   "cell_type": "markdown",
   "metadata": {},
   "source": [
    "# 6. MACHINE LEARNING TRAINING FUNCTION WITH OPTUNA"
   ]
  },
  {
   "cell_type": "code",
   "execution_count": 20,
   "metadata": {},
   "outputs": [],
   "source": [
    "def objective(trial):\n",
    "    # Clear clutter from previous Keras session graphs.\n",
    "    clear_session()\n",
    "    \n",
    "    global model_list\n",
    "    global test_ml\n",
    "    global test_label_ml\n",
    "    \n",
    "    train, test_ml, train_label, test_label_ml = divideTrainTest(data, labels)  \n",
    "    \n",
    "    clf1 = LogisticRegression(\n",
    "        penalty = trial.suggest_categorical('penalty',['none', 'l2']),\n",
    "        C = trial.suggest_float('LogisticRegression C', 0.1, 100, log=True),\n",
    "        random_state = 11, verbose = 2\n",
    "    )\n",
    "    \n",
    "    clf2 = SVC(\n",
    "        C = trial.suggest_float('SVC C', 0.1, 100, log=True),\n",
    "        kernel = trial.suggest_categorical('kernel', ['linear', 'poly', 'rbf']),\n",
    "        gamma = trial.suggest_float('gamma', 0.0001, 10, log=True),\n",
    "        random_state = 11, verbose = 2\n",
    "    )\n",
    "    \n",
    "    classifier_selection = trial.suggest_categorical('classifiers', ['clf1', 'clf2'])\n",
    "     \n",
    "    if (classifier_selection == 'clf1'):\n",
    "        clf = clf1\n",
    "    else:\n",
    "        clf = clf2\n",
    "        \n",
    "    clf.fit(train,train_label)\n",
    "    accuracy = clf.score(test_ml, test_label_ml)\n",
    "    \n",
    "    model_list.append(accuracy)\n",
    "    ml_model_save(clf, model_list, accuracy)\n",
    "\n",
    "    return accuracy\n",
    "            \n",
    "\n",
    "def ml_model_save(model, model_list, acc):\n",
    "    if acc >= max(model_list):\n",
    "        joblib.dump(model, 'ml_model\\\\best_ml_model.sav')"
   ]
  },
  {
   "cell_type": "markdown",
   "metadata": {},
   "source": [
    "# 7. TRAINING / RESULTS"
   ]
  },
  {
   "cell_type": "code",
   "execution_count": null,
   "metadata": {},
   "outputs": [
    {
     "name": "stderr",
     "output_type": "stream",
     "text": [
      "\u001b[32m[I 2021-12-14 06:10:05,237]\u001b[0m A new study created in memory with name: no-name-b340c966-8b77-4275-92f6-e0681ac816d5\u001b[0m\n"
     ]
    },
    {
     "name": "stdout",
     "output_type": "stream",
     "text": [
      "[LibSVM]"
     ]
    },
    {
     "name": "stderr",
     "output_type": "stream",
     "text": [
      "\u001b[32m[I 2021-12-14 06:11:29,204]\u001b[0m Trial 0 finished with value: 0.7621557186774578 and parameters: {'penalty': 'none', 'LogisticRegression C': 10.94765688771515, 'SVC C': 0.6197010161971082, 'kernel': 'rbf', 'gamma': 0.0175485477733824, 'classifiers': 'clf2'}. Best is trial 0 with value: 0.7621557186774578.\u001b[0m\n"
     ]
    },
    {
     "name": "stdout",
     "output_type": "stream",
     "text": [
      "[LibSVM]"
     ]
    },
    {
     "name": "stderr",
     "output_type": "stream",
     "text": [
      "\u001b[32m[I 2021-12-14 06:13:01,865]\u001b[0m Trial 1 finished with value: 0.7701235962105527 and parameters: {'penalty': 'none', 'LogisticRegression C': 0.17122952412637052, 'SVC C': 24.831033745375372, 'kernel': 'linear', 'gamma': 0.00029999068648783525, 'classifiers': 'clf2'}. Best is trial 1 with value: 0.7701235962105527.\u001b[0m\n"
     ]
    },
    {
     "name": "stdout",
     "output_type": "stream",
     "text": [
      "[LibSVM]"
     ]
    },
    {
     "name": "stderr",
     "output_type": "stream",
     "text": [
      "\u001b[32m[I 2021-12-14 09:06:24,028]\u001b[0m Trial 2 finished with value: 0.7824832172658259 and parameters: {'penalty': 'none', 'LogisticRegression C': 0.8470687777544668, 'SVC C': 0.16660122671140715, 'kernel': 'poly', 'gamma': 9.153898974452696, 'classifiers': 'clf2'}. Best is trial 2 with value: 0.7824832172658259.\u001b[0m\n"
     ]
    },
    {
     "name": "stdout",
     "output_type": "stream",
     "text": [
      "[LibSVM]"
     ]
    },
    {
     "name": "stderr",
     "output_type": "stream",
     "text": [
      "\u001b[32m[I 2021-12-14 09:07:13,913]\u001b[0m Trial 3 finished with value: 0.7678022460631156 and parameters: {'penalty': 'l2', 'LogisticRegression C': 3.0008013471149515, 'SVC C': 0.24248703939845487, 'kernel': 'linear', 'gamma': 0.0004850242519883159, 'classifiers': 'clf2'}. Best is trial 2 with value: 0.7824832172658259.\u001b[0m\n"
     ]
    },
    {
     "name": "stdout",
     "output_type": "stream",
     "text": [
      "[LibSVM]"
     ]
    },
    {
     "name": "stderr",
     "output_type": "stream",
     "text": [
      "\u001b[32m[I 2021-12-14 09:09:22,353]\u001b[0m Trial 4 finished with value: 0.7698726394378568 and parameters: {'penalty': 'none', 'LogisticRegression C': 0.10536742039123602, 'SVC C': 47.79726864629983, 'kernel': 'linear', 'gamma': 0.24813994572437972, 'classifiers': 'clf2'}. Best is trial 2 with value: 0.7824832172658259.\u001b[0m\n",
      "[Parallel(n_jobs=1)]: Using backend SequentialBackend with 1 concurrent workers.\n",
      "C:\\Users\\Burla Nur\\Anaconda3\\envs\\my_env\\lib\\site-packages\\sklearn\\linear_model\\_logistic.py:940: ConvergenceWarning: lbfgs failed to converge (status=1):\n",
      "STOP: TOTAL NO. of ITERATIONS REACHED LIMIT.\n",
      "\n",
      "Increase the number of iterations (max_iter) or scale the data as shown in:\n",
      "    https://scikit-learn.org/stable/modules/preprocessing.html\n",
      "Please also refer to the documentation for alternative solver options:\n",
      "    https://scikit-learn.org/stable/modules/linear_model.html#logistic-regression\n",
      "  extra_warning_msg=_LOGISTIC_SOLVER_CONVERGENCE_MSG)\n",
      "[Parallel(n_jobs=1)]: Done   1 out of   1 | elapsed:    0.3s remaining:    0.0s\n",
      "[Parallel(n_jobs=1)]: Done   1 out of   1 | elapsed:    0.3s finished\n",
      "\u001b[32m[I 2021-12-14 09:09:22,768]\u001b[0m Trial 5 finished with value: 0.7704372921764227 and parameters: {'penalty': 'l2', 'LogisticRegression C': 20.378944056652525, 'SVC C': 0.5124332127336579, 'kernel': 'poly', 'gamma': 0.021891480489475087, 'classifiers': 'clf1'}. Best is trial 2 with value: 0.7824832172658259.\u001b[0m\n"
     ]
    },
    {
     "name": "stdout",
     "output_type": "stream",
     "text": [
      "[LibSVM]"
     ]
    },
    {
     "name": "stderr",
     "output_type": "stream",
     "text": [
      "\u001b[32m[I 2021-12-14 09:10:21,178]\u001b[0m Trial 6 finished with value: 0.7634105025409373 and parameters: {'penalty': 'l2', 'LogisticRegression C': 5.299716372839514, 'SVC C': 47.03449579335855, 'kernel': 'poly', 'gamma': 0.026439852220229255, 'classifiers': 'clf2'}. Best is trial 2 with value: 0.7824832172658259.\u001b[0m\n",
      "C:\\Users\\Burla Nur\\Anaconda3\\envs\\my_env\\lib\\site-packages\\sklearn\\linear_model\\_logistic.py:1505: UserWarning: Setting penalty='none' will ignore the C and l1_ratio parameters\n",
      "  \"Setting penalty='none' will ignore the C and l1_ratio \"\n",
      "[Parallel(n_jobs=1)]: Using backend SequentialBackend with 1 concurrent workers.\n",
      "C:\\Users\\Burla Nur\\Anaconda3\\envs\\my_env\\lib\\site-packages\\sklearn\\linear_model\\_logistic.py:940: ConvergenceWarning: lbfgs failed to converge (status=1):\n",
      "STOP: TOTAL NO. of ITERATIONS REACHED LIMIT.\n",
      "\n",
      "Increase the number of iterations (max_iter) or scale the data as shown in:\n",
      "    https://scikit-learn.org/stable/modules/preprocessing.html\n",
      "Please also refer to the documentation for alternative solver options:\n",
      "    https://scikit-learn.org/stable/modules/linear_model.html#logistic-regression\n",
      "  extra_warning_msg=_LOGISTIC_SOLVER_CONVERGENCE_MSG)\n",
      "[Parallel(n_jobs=1)]: Done   1 out of   1 | elapsed:    0.3s remaining:    0.0s\n",
      "[Parallel(n_jobs=1)]: Done   1 out of   1 | elapsed:    0.3s finished\n",
      "\u001b[32m[I 2021-12-14 09:10:21,590]\u001b[0m Trial 7 finished with value: 0.7701235962105527 and parameters: {'penalty': 'none', 'LogisticRegression C': 81.15641443548135, 'SVC C': 0.13110493520635486, 'kernel': 'rbf', 'gamma': 0.2766677450836074, 'classifiers': 'clf1'}. Best is trial 2 with value: 0.7824832172658259.\u001b[0m\n"
     ]
    },
    {
     "name": "stdout",
     "output_type": "stream",
     "text": [
      "[LibSVM]"
     ]
    },
    {
     "name": "stderr",
     "output_type": "stream",
     "text": [
      "\u001b[32m[I 2021-12-14 09:11:11,539]\u001b[0m Trial 8 finished with value: 0.7681786812221595 and parameters: {'penalty': 'l2', 'LogisticRegression C': 6.42800213012584, 'SVC C': 0.5953300460485271, 'kernel': 'linear', 'gamma': 0.0016025471999691191, 'classifiers': 'clf2'}. Best is trial 2 with value: 0.7824832172658259.\u001b[0m\n",
      "[Parallel(n_jobs=1)]: Using backend SequentialBackend with 1 concurrent workers.\n",
      "C:\\Users\\Burla Nur\\Anaconda3\\envs\\my_env\\lib\\site-packages\\sklearn\\linear_model\\_logistic.py:940: ConvergenceWarning: lbfgs failed to converge (status=1):\n",
      "STOP: TOTAL NO. of ITERATIONS REACHED LIMIT.\n",
      "\n",
      "Increase the number of iterations (max_iter) or scale the data as shown in:\n",
      "    https://scikit-learn.org/stable/modules/preprocessing.html\n",
      "Please also refer to the documentation for alternative solver options:\n",
      "    https://scikit-learn.org/stable/modules/linear_model.html#logistic-regression\n",
      "  extra_warning_msg=_LOGISTIC_SOLVER_CONVERGENCE_MSG)\n",
      "[Parallel(n_jobs=1)]: Done   1 out of   1 | elapsed:    0.2s remaining:    0.0s\n",
      "[Parallel(n_jobs=1)]: Done   1 out of   1 | elapsed:    0.2s finished\n",
      "\u001b[32m[I 2021-12-14 09:11:11,905]\u001b[0m Trial 9 finished with value: 0.769621682665161 and parameters: {'penalty': 'l2', 'LogisticRegression C': 0.6877949602393355, 'SVC C': 6.4868716180128265, 'kernel': 'poly', 'gamma': 0.0009345365480622618, 'classifiers': 'clf1'}. Best is trial 2 with value: 0.7824832172658259.\u001b[0m\n",
      "C:\\Users\\Burla Nur\\Anaconda3\\envs\\my_env\\lib\\site-packages\\sklearn\\linear_model\\_logistic.py:1505: UserWarning: Setting penalty='none' will ignore the C and l1_ratio parameters\n",
      "  \"Setting penalty='none' will ignore the C and l1_ratio \"\n",
      "[Parallel(n_jobs=1)]: Using backend SequentialBackend with 1 concurrent workers.\n",
      "C:\\Users\\Burla Nur\\Anaconda3\\envs\\my_env\\lib\\site-packages\\sklearn\\linear_model\\_logistic.py:940: ConvergenceWarning: lbfgs failed to converge (status=1):\n",
      "STOP: TOTAL NO. of ITERATIONS REACHED LIMIT.\n",
      "\n",
      "Increase the number of iterations (max_iter) or scale the data as shown in:\n",
      "    https://scikit-learn.org/stable/modules/preprocessing.html\n",
      "Please also refer to the documentation for alternative solver options:\n",
      "    https://scikit-learn.org/stable/modules/linear_model.html#logistic-regression\n",
      "  extra_warning_msg=_LOGISTIC_SOLVER_CONVERGENCE_MSG)\n",
      "[Parallel(n_jobs=1)]: Done   1 out of   1 | elapsed:    0.2s remaining:    0.0s\n",
      "[Parallel(n_jobs=1)]: Done   1 out of   1 | elapsed:    0.2s finished\n",
      "\u001b[32m[I 2021-12-14 09:11:12,295]\u001b[0m Trial 10 finished with value: 0.7701235962105527 and parameters: {'penalty': 'none', 'LogisticRegression C': 1.1856559227509458, 'SVC C': 2.5326166266684145, 'kernel': 'poly', 'gamma': 8.522074643041687, 'classifiers': 'clf1'}. Best is trial 2 with value: 0.7824832172658259.\u001b[0m\n",
      "[Parallel(n_jobs=1)]: Using backend SequentialBackend with 1 concurrent workers.\n",
      "C:\\Users\\Burla Nur\\Anaconda3\\envs\\my_env\\lib\\site-packages\\sklearn\\linear_model\\_logistic.py:940: ConvergenceWarning: lbfgs failed to converge (status=1):\n",
      "STOP: TOTAL NO. of ITERATIONS REACHED LIMIT.\n",
      "\n",
      "Increase the number of iterations (max_iter) or scale the data as shown in:\n",
      "    https://scikit-learn.org/stable/modules/preprocessing.html\n",
      "Please also refer to the documentation for alternative solver options:\n",
      "    https://scikit-learn.org/stable/modules/linear_model.html#logistic-regression\n",
      "  extra_warning_msg=_LOGISTIC_SOLVER_CONVERGENCE_MSG)\n",
      "[Parallel(n_jobs=1)]: Done   1 out of   1 | elapsed:    0.3s remaining:    0.0s\n",
      "[Parallel(n_jobs=1)]: Done   1 out of   1 | elapsed:    0.3s finished\n",
      "\u001b[32m[I 2021-12-14 09:11:12,701]\u001b[0m Trial 11 finished with value: 0.7703745529832486 and parameters: {'penalty': 'l2', 'LogisticRegression C': 41.68684805505758, 'SVC C': 0.675304330947512, 'kernel': 'poly', 'gamma': 7.974206669053347, 'classifiers': 'clf1'}. Best is trial 2 with value: 0.7824832172658259.\u001b[0m\n",
      "C:\\Users\\Burla Nur\\Anaconda3\\envs\\my_env\\lib\\site-packages\\sklearn\\linear_model\\_logistic.py:1505: UserWarning: Setting penalty='none' will ignore the C and l1_ratio parameters\n",
      "  \"Setting penalty='none' will ignore the C and l1_ratio \"\n",
      "[Parallel(n_jobs=1)]: Using backend SequentialBackend with 1 concurrent workers.\n",
      "C:\\Users\\Burla Nur\\Anaconda3\\envs\\my_env\\lib\\site-packages\\sklearn\\linear_model\\_logistic.py:940: ConvergenceWarning: lbfgs failed to converge (status=1):\n",
      "STOP: TOTAL NO. of ITERATIONS REACHED LIMIT.\n",
      "\n",
      "Increase the number of iterations (max_iter) or scale the data as shown in:\n",
      "    https://scikit-learn.org/stable/modules/preprocessing.html\n",
      "Please also refer to the documentation for alternative solver options:\n",
      "    https://scikit-learn.org/stable/modules/linear_model.html#logistic-regression\n",
      "  extra_warning_msg=_LOGISTIC_SOLVER_CONVERGENCE_MSG)\n",
      "[Parallel(n_jobs=1)]: Done   1 out of   1 | elapsed:    0.2s remaining:    0.0s\n",
      "[Parallel(n_jobs=1)]: Done   1 out of   1 | elapsed:    0.2s finished\n",
      "\u001b[32m[I 2021-12-14 09:11:13,084]\u001b[0m Trial 12 finished with value: 0.7701235962105527 and parameters: {'penalty': 'none', 'LogisticRegression C': 30.64843726383937, 'SVC C': 0.11035873769703283, 'kernel': 'poly', 'gamma': 0.3942392422694801, 'classifiers': 'clf1'}. Best is trial 2 with value: 0.7824832172658259.\u001b[0m\n",
      "[Parallel(n_jobs=1)]: Using backend SequentialBackend with 1 concurrent workers.\n",
      "C:\\Users\\Burla Nur\\Anaconda3\\envs\\my_env\\lib\\site-packages\\sklearn\\linear_model\\_logistic.py:940: ConvergenceWarning: lbfgs failed to converge (status=1):\n",
      "STOP: TOTAL NO. of ITERATIONS REACHED LIMIT.\n",
      "\n",
      "Increase the number of iterations (max_iter) or scale the data as shown in:\n",
      "    https://scikit-learn.org/stable/modules/preprocessing.html\n",
      "Please also refer to the documentation for alternative solver options:\n",
      "    https://scikit-learn.org/stable/modules/linear_model.html#logistic-regression\n",
      "  extra_warning_msg=_LOGISTIC_SOLVER_CONVERGENCE_MSG)\n",
      "[Parallel(n_jobs=1)]: Done   1 out of   1 | elapsed:    0.2s remaining:    0.0s\n",
      "[Parallel(n_jobs=1)]: Done   1 out of   1 | elapsed:    0.2s finished\n",
      "\u001b[32m[I 2021-12-14 09:11:13,463]\u001b[0m Trial 13 finished with value: 0.769370725892465 and parameters: {'penalty': 'l2', 'LogisticRegression C': 0.553606079818154, 'SVC C': 1.9678411190159473, 'kernel': 'poly', 'gamma': 0.006331484312705862, 'classifiers': 'clf1'}. Best is trial 2 with value: 0.7824832172658259.\u001b[0m\n"
     ]
    },
    {
     "name": "stdout",
     "output_type": "stream",
     "text": [
      "[LibSVM]"
     ]
    },
    {
     "name": "stderr",
     "output_type": "stream",
     "text": [
      "\u001b[32m[I 2021-12-14 09:15:45,704]\u001b[0m Trial 14 finished with value: 0.7787816048685614 and parameters: {'penalty': 'l2', 'LogisticRegression C': 1.9622489283267273, 'SVC C': 0.29754682837811686, 'kernel': 'poly', 'gamma': 1.975822715315462, 'classifiers': 'clf2'}. Best is trial 2 with value: 0.7824832172658259.\u001b[0m\n"
     ]
    },
    {
     "name": "stdout",
     "output_type": "stream",
     "text": [
      "[LibSVM]"
     ]
    },
    {
     "name": "stderr",
     "output_type": "stream",
     "text": [
      "\u001b[32m[I 2021-12-14 09:19:16,076]\u001b[0m Trial 15 finished with value: 0.7783424305163436 and parameters: {'penalty': 'none', 'LogisticRegression C': 1.8367719445542368, 'SVC C': 0.2877603474103918, 'kernel': 'poly', 'gamma': 1.7883094146563132, 'classifiers': 'clf2'}. Best is trial 2 with value: 0.7824832172658259.\u001b[0m\n"
     ]
    },
    {
     "name": "stdout",
     "output_type": "stream",
     "text": [
      "[LibSVM]"
     ]
    },
    {
     "name": "stderr",
     "output_type": "stream",
     "text": [
      "\u001b[32m[I 2021-12-14 09:21:43,784]\u001b[0m Trial 16 finished with value: 0.7861220904699165 and parameters: {'penalty': 'l2', 'LogisticRegression C': 0.2991748629370253, 'SVC C': 7.284452261360448, 'kernel': 'rbf', 'gamma': 2.252565649742578, 'classifiers': 'clf2'}. Best is trial 16 with value: 0.7861220904699165.\u001b[0m\n"
     ]
    },
    {
     "name": "stdout",
     "output_type": "stream",
     "text": [
      "[LibSVM]"
     ]
    },
    {
     "name": "stderr",
     "output_type": "stream",
     "text": [
      "\u001b[32m[I 2021-12-14 09:23:24,643]\u001b[0m Trial 17 finished with value: 0.7853064809586549 and parameters: {'penalty': 'none', 'LogisticRegression C': 0.2802435559499975, 'SVC C': 7.63625917108123, 'kernel': 'rbf', 'gamma': 1.1160308315611267, 'classifiers': 'clf2'}. Best is trial 16 with value: 0.7861220904699165.\u001b[0m\n"
     ]
    },
    {
     "name": "stdout",
     "output_type": "stream",
     "text": [
      "[LibSVM]"
     ]
    },
    {
     "name": "stderr",
     "output_type": "stream",
     "text": [
      "\u001b[32m[I 2021-12-14 09:25:30,768]\u001b[0m Trial 18 finished with value: 0.7858083945040467 and parameters: {'penalty': 'none', 'LogisticRegression C': 0.3038639503435305, 'SVC C': 12.075257412931826, 'kernel': 'rbf', 'gamma': 1.1668274419604234, 'classifiers': 'clf2'}. Best is trial 16 with value: 0.7861220904699165.\u001b[0m\n"
     ]
    },
    {
     "name": "stdout",
     "output_type": "stream",
     "text": [
      "[LibSVM]"
     ]
    },
    {
     "name": "stderr",
     "output_type": "stream",
     "text": [
      "\u001b[32m[I 2021-12-14 09:26:48,035]\u001b[0m Trial 19 finished with value: 0.7760838195620804 and parameters: {'penalty': 'l2', 'LogisticRegression C': 0.37074227239731933, 'SVC C': 14.823607088541321, 'kernel': 'rbf', 'gamma': 0.08556488404571375, 'classifiers': 'clf2'}. Best is trial 16 with value: 0.7861220904699165.\u001b[0m\n"
     ]
    },
    {
     "name": "stdout",
     "output_type": "stream",
     "text": [
      "[LibSVM]"
     ]
    },
    {
     "name": "stderr",
     "output_type": "stream",
     "text": [
      "\u001b[32m[I 2021-12-14 09:28:05,412]\u001b[0m Trial 20 finished with value: 0.7747035573122529 and parameters: {'penalty': 'l2', 'LogisticRegression C': 0.1997824182763678, 'SVC C': 5.493304126111406, 'kernel': 'rbf', 'gamma': 0.09084746987712114, 'classifiers': 'clf2'}. Best is trial 16 with value: 0.7861220904699165.\u001b[0m\n"
     ]
    },
    {
     "name": "stdout",
     "output_type": "stream",
     "text": [
      "[LibSVM]"
     ]
    },
    {
     "name": "stderr",
     "output_type": "stream",
     "text": [
      "\u001b[32m[I 2021-12-14 09:30:13,067]\u001b[0m Trial 21 finished with value: 0.7856829161176987 and parameters: {'penalty': 'none', 'LogisticRegression C': 0.2846223708469368, 'SVC C': 10.056350990894549, 'kernel': 'rbf', 'gamma': 1.2910171272920643, 'classifiers': 'clf2'}. Best is trial 16 with value: 0.7861220904699165.\u001b[0m\n"
     ]
    },
    {
     "name": "stdout",
     "output_type": "stream",
     "text": [
      "[LibSVM]"
     ]
    },
    {
     "name": "stderr",
     "output_type": "stream",
     "text": [
      "\u001b[32m[I 2021-12-14 09:34:26,265]\u001b[0m Trial 22 finished with value: 0.7852437417654808 and parameters: {'penalty': 'none', 'LogisticRegression C': 0.10195230441372592, 'SVC C': 15.717640878529233, 'kernel': 'rbf', 'gamma': 2.5737051983771533, 'classifiers': 'clf2'}. Best is trial 16 with value: 0.7861220904699165.\u001b[0m\n"
     ]
    },
    {
     "name": "stdout",
     "output_type": "stream",
     "text": [
      "[LibSVM]"
     ]
    },
    {
     "name": "stderr",
     "output_type": "stream",
     "text": [
      "\u001b[32m[I 2021-12-14 09:39:10,851]\u001b[0m Trial 23 finished with value: 0.787565091912918 and parameters: {'penalty': 'none', 'LogisticRegression C': 0.3968064079107413, 'SVC C': 80.30161564418209, 'kernel': 'rbf', 'gamma': 0.6791700860838945, 'classifiers': 'clf2'}. Best is trial 23 with value: 0.787565091912918.\u001b[0m\n"
     ]
    },
    {
     "name": "stdout",
     "output_type": "stream",
     "text": [
      "[LibSVM]"
     ]
    },
    {
     "name": "stderr",
     "output_type": "stream",
     "text": [
      "\u001b[32m[I 2021-12-14 09:43:20,024]\u001b[0m Trial 24 finished with value: 0.7860593512767425 and parameters: {'penalty': 'none', 'LogisticRegression C': 0.4282057982143948, 'SVC C': 83.58625130167312, 'kernel': 'rbf', 'gamma': 0.5572812127255543, 'classifiers': 'clf2'}. Best is trial 23 with value: 0.787565091912918.\u001b[0m\n"
     ]
    },
    {
     "name": "stdout",
     "output_type": "stream",
     "text": [
      "[LibSVM]"
     ]
    },
    {
     "name": "stderr",
     "output_type": "stream",
     "text": [
      "\u001b[32m[I 2021-12-14 09:47:20,213]\u001b[0m Trial 25 finished with value: 0.7867494824016563 and parameters: {'penalty': 'none', 'LogisticRegression C': 0.5593101148270552, 'SVC C': 99.13402811523869, 'kernel': 'rbf', 'gamma': 0.45399051274447916, 'classifiers': 'clf2'}. Best is trial 23 with value: 0.787565091912918.\u001b[0m\n"
     ]
    },
    {
     "name": "stdout",
     "output_type": "stream",
     "text": [
      "[LibSVM]"
     ]
    },
    {
     "name": "stderr",
     "output_type": "stream",
     "text": [
      "\u001b[32m[I 2021-12-14 09:54:43,338]\u001b[0m Trial 26 finished with value: 0.7790325616412573 and parameters: {'penalty': 'none', 'LogisticRegression C': 1.0002228681946659, 'SVC C': 30.94460607546679, 'kernel': 'rbf', 'gamma': 3.03397809036113, 'classifiers': 'clf2'}. Best is trial 23 with value: 0.787565091912918.\u001b[0m\n"
     ]
    },
    {
     "name": "stdout",
     "output_type": "stream",
     "text": [
      "[LibSVM]"
     ]
    },
    {
     "name": "stderr",
     "output_type": "stream",
     "text": [
      "\u001b[32m[I 2021-12-14 09:56:25,713]\u001b[0m Trial 27 finished with value: 0.7792207792207793 and parameters: {'penalty': 'none', 'LogisticRegression C': 1.4856258965963998, 'SVC C': 89.6255640659067, 'kernel': 'rbf', 'gamma': 0.10787801268811298, 'classifiers': 'clf2'}. Best is trial 23 with value: 0.787565091912918.\u001b[0m\n"
     ]
    },
    {
     "name": "stdout",
     "output_type": "stream",
     "text": [
      "[LibSVM]"
     ]
    },
    {
     "name": "stderr",
     "output_type": "stream",
     "text": [
      "\u001b[32m[I 2021-12-14 09:59:30,103]\u001b[0m Trial 28 finished with value: 0.7861848296630906 and parameters: {'penalty': 'l2', 'LogisticRegression C': 0.1587038476670696, 'SVC C': 50.46695001876273, 'kernel': 'rbf', 'gamma': 0.6034252494308883, 'classifiers': 'clf2'}. Best is trial 23 with value: 0.787565091912918.\u001b[0m\n"
     ]
    },
    {
     "name": "stdout",
     "output_type": "stream",
     "text": [
      "[LibSVM]"
     ]
    },
    {
     "name": "stderr",
     "output_type": "stream",
     "text": [
      "\u001b[32m[I 2021-12-14 10:00:48,164]\u001b[0m Trial 29 finished with value: 0.7723822071648159 and parameters: {'penalty': 'none', 'LogisticRegression C': 0.17219133178023696, 'SVC C': 60.237155139293215, 'kernel': 'rbf', 'gamma': 0.009042516978879535, 'classifiers': 'clf2'}. Best is trial 23 with value: 0.787565091912918.\u001b[0m\n"
     ]
    },
    {
     "name": "stdout",
     "output_type": "stream",
     "text": [
      "[LibSVM]"
     ]
    },
    {
     "name": "stderr",
     "output_type": "stream",
     "text": [
      "\u001b[32m[I 2021-12-14 10:02:18,343]\u001b[0m Trial 30 finished with value: 0.7551289290419725 and parameters: {'penalty': 'none', 'LogisticRegression C': 0.5987168740185732, 'SVC C': 27.94156160744134, 'kernel': 'rbf', 'gamma': 0.00010808802911117214, 'classifiers': 'clf2'}. Best is trial 23 with value: 0.787565091912918.\u001b[0m\n"
     ]
    },
    {
     "name": "stdout",
     "output_type": "stream",
     "text": [
      "[LibSVM]"
     ]
    },
    {
     "name": "stderr",
     "output_type": "stream",
     "text": [
      "\u001b[32m[I 2021-12-14 10:05:53,723]\u001b[0m Trial 31 finished with value: 0.7863103080494385 and parameters: {'penalty': 'l2', 'LogisticRegression C': 0.188608486595497, 'SVC C': 60.45789082615579, 'kernel': 'rbf', 'gamma': 0.6218159701292323, 'classifiers': 'clf2'}. Best is trial 23 with value: 0.787565091912918.\u001b[0m\n"
     ]
    },
    {
     "name": "stdout",
     "output_type": "stream",
     "text": [
      "[LibSVM]"
     ]
    },
    {
     "name": "stderr",
     "output_type": "stream",
     "text": [
      "\u001b[32m[I 2021-12-14 10:09:41,900]\u001b[0m Trial 32 finished with value: 0.7866240040153084 and parameters: {'penalty': 'l2', 'LogisticRegression C': 0.14796776979567117, 'SVC C': 59.823560646483436, 'kernel': 'rbf', 'gamma': 0.677881942994509, 'classifiers': 'clf2'}. Best is trial 23 with value: 0.787565091912918.\u001b[0m\n"
     ]
    },
    {
     "name": "stdout",
     "output_type": "stream",
     "text": [
      "[LibSVM]"
     ]
    },
    {
     "name": "stderr",
     "output_type": "stream",
     "text": [
      "\u001b[32m[I 2021-12-14 10:11:50,353]\u001b[0m Trial 33 finished with value: 0.7803500846979108 and parameters: {'penalty': 'l2', 'LogisticRegression C': 0.16408553618911048, 'SVC C': 98.32404607331601, 'kernel': 'rbf', 'gamma': 0.1692010694803963, 'classifiers': 'clf2'}. Best is trial 23 with value: 0.787565091912918.\u001b[0m\n"
     ]
    },
    {
     "name": "stdout",
     "output_type": "stream",
     "text": [
      "[LibSVM]"
     ]
    },
    {
     "name": "stderr",
     "output_type": "stream",
     "text": [
      "\u001b[32m[I 2021-12-14 10:20:21,228]\u001b[0m Trial 34 finished with value: 0.7716293368467282 and parameters: {'penalty': 'l2', 'LogisticRegression C': 0.47084732246468236, 'SVC C': 23.236105340432722, 'kernel': 'rbf', 'gamma': 4.298016377333796, 'classifiers': 'clf2'}. Best is trial 23 with value: 0.787565091912918.\u001b[0m\n"
     ]
    },
    {
     "name": "stdout",
     "output_type": "stream",
     "text": [
      "[LibSVM]"
     ]
    },
    {
     "name": "stderr",
     "output_type": "stream",
     "text": [
      "\u001b[32m[I 2021-12-14 10:22:13,023]\u001b[0m Trial 35 finished with value: 0.7701235962105527 and parameters: {'penalty': 'l2', 'LogisticRegression C': 0.11513526459999748, 'SVC C': 35.45422183443008, 'kernel': 'linear', 'gamma': 0.049616273878942616, 'classifiers': 'clf2'}. Best is trial 23 with value: 0.787565091912918.\u001b[0m\n"
     ]
    },
    {
     "name": "stdout",
     "output_type": "stream",
     "text": [
      "[LibSVM]"
     ]
    },
    {
     "name": "stderr",
     "output_type": "stream",
     "text": [
      "\u001b[32m[I 2021-12-14 10:26:02,353]\u001b[0m Trial 36 finished with value: 0.7863103080494385 and parameters: {'penalty': 'none', 'LogisticRegression C': 0.2215267144745858, 'SVC C': 64.57599936175004, 'kernel': 'rbf', 'gamma': 0.6271533570974505, 'classifiers': 'clf2'}. Best is trial 23 with value: 0.787565091912918.\u001b[0m\n"
     ]
    },
    {
     "name": "stdout",
     "output_type": "stream",
     "text": [
      "[LibSVM]"
     ]
    },
    {
     "name": "stderr",
     "output_type": "stream",
     "text": [
      "\u001b[32m[I 2021-12-14 10:27:25,479]\u001b[0m Trial 37 finished with value: 0.7702490745969007 and parameters: {'penalty': 'none', 'LogisticRegression C': 0.8051647158196582, 'SVC C': 19.645494207950748, 'kernel': 'linear', 'gamma': 0.2165393002639913, 'classifiers': 'clf2'}. Best is trial 23 with value: 0.787565091912918.\u001b[0m\n"
     ]
    },
    {
     "name": "stdout",
     "output_type": "stream",
     "text": [
      "[LibSVM]"
     ]
    },
    {
     "name": "stderr",
     "output_type": "stream",
     "text": [
      "\u001b[32m[I 2021-12-14 10:28:44,283]\u001b[0m Trial 38 finished with value: 0.7754564276303407 and parameters: {'penalty': 'none', 'LogisticRegression C': 3.623798833497608, 'SVC C': 37.85815907375171, 'kernel': 'rbf', 'gamma': 0.04172127220621944, 'classifiers': 'clf2'}. Best is trial 23 with value: 0.787565091912918.\u001b[0m\n"
     ]
    },
    {
     "name": "stdout",
     "output_type": "stream",
     "text": [
      "[LibSVM]"
     ]
    },
    {
     "name": "stderr",
     "output_type": "stream",
     "text": [
      "\u001b[32m[I 2021-12-14 10:34:09,441]\u001b[0m Trial 39 finished with value: 0.7868122215948303 and parameters: {'penalty': 'none', 'LogisticRegression C': 0.24926496086194166, 'SVC C': 73.06940481692908, 'kernel': 'rbf', 'gamma': 0.8529900243569857, 'classifiers': 'clf2'}. Best is trial 23 with value: 0.787565091912918.\u001b[0m\n"
     ]
    },
    {
     "name": "stdout",
     "output_type": "stream",
     "text": [
      "[LibSVM]"
     ]
    },
    {
     "name": "stderr",
     "output_type": "stream",
     "text": [
      "\u001b[32m[I 2021-12-14 10:36:58,959]\u001b[0m Trial 40 finished with value: 0.7699353786310308 and parameters: {'penalty': 'none', 'LogisticRegression C': 10.061266282356428, 'SVC C': 74.21699458819549, 'kernel': 'linear', 'gamma': 4.098599264480223, 'classifiers': 'clf2'}. Best is trial 23 with value: 0.787565091912918.\u001b[0m\n"
     ]
    },
    {
     "name": "stdout",
     "output_type": "stream",
     "text": [
      "[LibSVM]"
     ]
    },
    {
     "name": "stderr",
     "output_type": "stream",
     "text": [
      "\u001b[32m[I 2021-12-14 10:39:15,133]\u001b[0m Trial 41 finished with value: 0.7843026538678712 and parameters: {'penalty': 'none', 'LogisticRegression C': 0.260403573114842, 'SVC C': 44.90485849306012, 'kernel': 'rbf', 'gamma': 0.4144956377282081, 'classifiers': 'clf2'}. Best is trial 23 with value: 0.787565091912918.\u001b[0m\n"
     ]
    },
    {
     "name": "stdout",
     "output_type": "stream",
     "text": [
      "[LibSVM]"
     ]
    },
    {
     "name": "stderr",
     "output_type": "stream",
     "text": [
      "\u001b[32m[I 2021-12-14 10:44:05,578]\u001b[0m Trial 42 finished with value: 0.7870004391743523 and parameters: {'penalty': 'none', 'LogisticRegression C': 0.13479881793013065, 'SVC C': 65.0505523335676, 'kernel': 'rbf', 'gamma': 0.8599799679917524, 'classifiers': 'clf2'}. Best is trial 23 with value: 0.787565091912918.\u001b[0m\n"
     ]
    },
    {
     "name": "stdout",
     "output_type": "stream",
     "text": [
      "[LibSVM]"
     ]
    },
    {
     "name": "stderr",
     "output_type": "stream",
     "text": [
      "\u001b[32m[I 2021-12-14 10:50:26,816]\u001b[0m Trial 43 finished with value: 0.7873141351402221 and parameters: {'penalty': 'none', 'LogisticRegression C': 0.1186941488583445, 'SVC C': 89.74206518409338, 'kernel': 'rbf', 'gamma': 0.8965632706523284, 'classifiers': 'clf2'}. Best is trial 23 with value: 0.787565091912918.\u001b[0m\n",
      "C:\\Users\\Burla Nur\\Anaconda3\\envs\\my_env\\lib\\site-packages\\sklearn\\linear_model\\_logistic.py:1505: UserWarning: Setting penalty='none' will ignore the C and l1_ratio parameters\n",
      "  \"Setting penalty='none' will ignore the C and l1_ratio \"\n",
      "[Parallel(n_jobs=1)]: Using backend SequentialBackend with 1 concurrent workers.\n",
      "C:\\Users\\Burla Nur\\Anaconda3\\envs\\my_env\\lib\\site-packages\\sklearn\\linear_model\\_logistic.py:940: ConvergenceWarning: lbfgs failed to converge (status=1):\n",
      "STOP: TOTAL NO. of ITERATIONS REACHED LIMIT.\n",
      "\n",
      "Increase the number of iterations (max_iter) or scale the data as shown in:\n",
      "    https://scikit-learn.org/stable/modules/preprocessing.html\n",
      "Please also refer to the documentation for alternative solver options:\n",
      "    https://scikit-learn.org/stable/modules/linear_model.html#logistic-regression\n",
      "  extra_warning_msg=_LOGISTIC_SOLVER_CONVERGENCE_MSG)\n",
      "[Parallel(n_jobs=1)]: Done   1 out of   1 | elapsed:    0.3s remaining:    0.0s\n",
      "[Parallel(n_jobs=1)]: Done   1 out of   1 | elapsed:    0.3s finished\n",
      "\u001b[32m[I 2021-12-14 10:50:27,212]\u001b[0m Trial 44 finished with value: 0.7701235962105527 and parameters: {'penalty': 'none', 'LogisticRegression C': 0.11917076948148789, 'SVC C': 96.01818107993127, 'kernel': 'rbf', 'gamma': 0.18563236057056368, 'classifiers': 'clf1'}. Best is trial 23 with value: 0.787565091912918.\u001b[0m\n"
     ]
    },
    {
     "name": "stdout",
     "output_type": "stream",
     "text": [
      "[LibSVM]"
     ]
    },
    {
     "name": "stderr",
     "output_type": "stream",
     "text": [
      "\u001b[32m[I 2021-12-14 10:51:45,687]\u001b[0m Trial 45 finished with value: 0.780036388732041 and parameters: {'penalty': 'none', 'LogisticRegression C': 0.42399665058551084, 'SVC C': 1.2593503018362038, 'kernel': 'rbf', 'gamma': 1.0243437406744453, 'classifiers': 'clf2'}. Best is trial 23 with value: 0.787565091912918.\u001b[0m\n"
     ]
    },
    {
     "name": "stdout",
     "output_type": "stream",
     "text": [
      "[LibSVM]"
     ]
    },
    {
     "name": "stderr",
     "output_type": "stream",
     "text": [
      "\u001b[32m[I 2021-12-14 11:11:13,638]\u001b[0m Trial 46 finished with value: 0.7534977100194491 and parameters: {'penalty': 'none', 'LogisticRegression C': 0.7256545168620672, 'SVC C': 44.1717566571286, 'kernel': 'rbf', 'gamma': 5.117487852650306, 'classifiers': 'clf2'}. Best is trial 23 with value: 0.787565091912918.\u001b[0m\n",
      "C:\\Users\\Burla Nur\\Anaconda3\\envs\\my_env\\lib\\site-packages\\sklearn\\linear_model\\_logistic.py:1505: UserWarning: Setting penalty='none' will ignore the C and l1_ratio parameters\n",
      "  \"Setting penalty='none' will ignore the C and l1_ratio \"\n",
      "[Parallel(n_jobs=1)]: Using backend SequentialBackend with 1 concurrent workers.\n",
      "C:\\Users\\Burla Nur\\Anaconda3\\envs\\my_env\\lib\\site-packages\\sklearn\\linear_model\\_logistic.py:940: ConvergenceWarning: lbfgs failed to converge (status=1):\n",
      "STOP: TOTAL NO. of ITERATIONS REACHED LIMIT.\n",
      "\n",
      "Increase the number of iterations (max_iter) or scale the data as shown in:\n",
      "    https://scikit-learn.org/stable/modules/preprocessing.html\n",
      "Please also refer to the documentation for alternative solver options:\n",
      "    https://scikit-learn.org/stable/modules/linear_model.html#logistic-regression\n",
      "  extra_warning_msg=_LOGISTIC_SOLVER_CONVERGENCE_MSG)\n",
      "[Parallel(n_jobs=1)]: Done   1 out of   1 | elapsed:    0.3s remaining:    0.0s\n",
      "[Parallel(n_jobs=1)]: Done   1 out of   1 | elapsed:    0.3s finished\n",
      "\u001b[32m[I 2021-12-14 11:11:14,035]\u001b[0m Trial 47 finished with value: 0.7701235962105527 and parameters: {'penalty': 'none', 'LogisticRegression C': 0.12719705926003638, 'SVC C': 3.9651213424237777, 'kernel': 'rbf', 'gamma': 0.3089834109638632, 'classifiers': 'clf1'}. Best is trial 23 with value: 0.787565091912918.\u001b[0m\n"
     ]
    },
    {
     "name": "stdout",
     "output_type": "stream",
     "text": [
      "[LibSVM]"
     ]
    },
    {
     "name": "stderr",
     "output_type": "stream",
     "text": [
      "\u001b[32m[I 2021-12-14 11:13:59,214]\u001b[0m Trial 48 finished with value: 0.7699353786310308 and parameters: {'penalty': 'none', 'LogisticRegression C': 0.22088606039258307, 'SVC C': 72.45657276018612, 'kernel': 'linear', 'gamma': 0.0161344066330363, 'classifiers': 'clf2'}. Best is trial 23 with value: 0.787565091912918.\u001b[0m\n"
     ]
    },
    {
     "name": "stdout",
     "output_type": "stream",
     "text": [
      "[LibSVM]"
     ]
    },
    {
     "name": "stderr",
     "output_type": "stream",
     "text": [
      "\u001b[32m[I 2021-12-14 11:15:22,986]\u001b[0m Trial 49 finished with value: 0.7781542129368216 and parameters: {'penalty': 'none', 'LogisticRegression C': 1.2591250258437587, 'SVC C': 26.901129941759486, 'kernel': 'rbf', 'gamma': 0.12430746141247988, 'classifiers': 'clf2'}. Best is trial 23 with value: 0.787565091912918.\u001b[0m\n",
      "C:\\Users\\Burla Nur\\Anaconda3\\envs\\my_env\\lib\\site-packages\\sklearn\\linear_model\\_logistic.py:1505: UserWarning: Setting penalty='none' will ignore the C and l1_ratio parameters\n",
      "  \"Setting penalty='none' will ignore the C and l1_ratio \"\n",
      "[Parallel(n_jobs=1)]: Using backend SequentialBackend with 1 concurrent workers.\n",
      "C:\\Users\\Burla Nur\\Anaconda3\\envs\\my_env\\lib\\site-packages\\sklearn\\linear_model\\_logistic.py:940: ConvergenceWarning: lbfgs failed to converge (status=1):\n",
      "STOP: TOTAL NO. of ITERATIONS REACHED LIMIT.\n",
      "\n",
      "Increase the number of iterations (max_iter) or scale the data as shown in:\n",
      "    https://scikit-learn.org/stable/modules/preprocessing.html\n",
      "Please also refer to the documentation for alternative solver options:\n",
      "    https://scikit-learn.org/stable/modules/linear_model.html#logistic-regression\n",
      "  extra_warning_msg=_LOGISTIC_SOLVER_CONVERGENCE_MSG)\n",
      "[Parallel(n_jobs=1)]: Done   1 out of   1 | elapsed:    0.3s remaining:    0.0s\n",
      "[Parallel(n_jobs=1)]: Done   1 out of   1 | elapsed:    0.3s finished\n",
      "\u001b[32m[I 2021-12-14 11:15:23,409]\u001b[0m Trial 50 finished with value: 0.7701235962105527 and parameters: {'penalty': 'none', 'LogisticRegression C': 2.4672118644399763, 'SVC C': 35.725479024606955, 'kernel': 'rbf', 'gamma': 1.6342632380376527, 'classifiers': 'clf1'}. Best is trial 23 with value: 0.787565091912918.\u001b[0m\n"
     ]
    },
    {
     "name": "stdout",
     "output_type": "stream",
     "text": [
      "[LibSVM]"
     ]
    },
    {
     "name": "stderr",
     "output_type": "stream",
     "text": [
      "\u001b[32m[I 2021-12-14 11:20:02,548]\u001b[0m Trial 51 finished with value: 0.7870631783675262 and parameters: {'penalty': 'none', 'LogisticRegression C': 0.14329777051070505, 'SVC C': 59.73181038846475, 'kernel': 'rbf', 'gamma': 0.8800811436040039, 'classifiers': 'clf2'}. Best is trial 23 with value: 0.787565091912918.\u001b[0m\n"
     ]
    },
    {
     "name": "stdout",
     "output_type": "stream",
     "text": [
      "[LibSVM]"
     ]
    },
    {
     "name": "stderr",
     "output_type": "stream",
     "text": [
      "\u001b[32m[I 2021-12-14 11:27:23,961]\u001b[0m Trial 52 finished with value: 0.7866240040153084 and parameters: {'penalty': 'none', 'LogisticRegression C': 0.33079527095877365, 'SVC C': 99.6290149692395, 'kernel': 'rbf', 'gamma': 0.9821360583925682, 'classifiers': 'clf2'}. Best is trial 23 with value: 0.787565091912918.\u001b[0m\n"
     ]
    },
    {
     "name": "stdout",
     "output_type": "stream",
     "text": [
      "[LibSVM]"
     ]
    },
    {
     "name": "stderr",
     "output_type": "stream",
     "text": [
      "\u001b[32m[I 2021-12-14 11:29:45,458]\u001b[0m Trial 53 finished with value: 0.7841771754815233 and parameters: {'penalty': 'none', 'LogisticRegression C': 0.1382805740086705, 'SVC C': 50.9188533542784, 'kernel': 'rbf', 'gamma': 0.39464623983061525, 'classifiers': 'clf2'}. Best is trial 23 with value: 0.787565091912918.\u001b[0m\n"
     ]
    },
    {
     "name": "stdout",
     "output_type": "stream",
     "text": [
      "[LibSVM]"
     ]
    },
    {
     "name": "stderr",
     "output_type": "stream",
     "text": [
      "\u001b[32m[I 2021-12-14 11:32:05,667]\u001b[0m Trial 54 finished with value: 0.782420478072652 and parameters: {'penalty': 'none', 'LogisticRegression C': 0.2317810541895349, 'SVC C': 67.50083965083624, 'kernel': 'rbf', 'gamma': 0.28674887726062886, 'classifiers': 'clf2'}. Best is trial 23 with value: 0.787565091912918.\u001b[0m\n"
     ]
    },
    {
     "name": "stdout",
     "output_type": "stream",
     "text": [
      "[LibSVM]"
     ]
    },
    {
     "name": "stderr",
     "output_type": "stream",
     "text": [
      "\u001b[32m[I 2021-12-14 11:44:51,762]\u001b[0m Trial 55 finished with value: 0.7605872388481084 and parameters: {'penalty': 'none', 'LogisticRegression C': 0.1043043686839807, 'SVC C': 22.133386889736634, 'kernel': 'rbf', 'gamma': 5.807432467619604, 'classifiers': 'clf2'}. Best is trial 23 with value: 0.787565091912918.\u001b[0m\n"
     ]
    },
    {
     "name": "stdout",
     "output_type": "stream",
     "text": [
      "[LibSVM]"
     ]
    },
    {
     "name": "stderr",
     "output_type": "stream",
     "text": [
      "\u001b[32m[I 2021-12-14 11:46:30,403]\u001b[0m Trial 56 finished with value: 0.49469853817679904 and parameters: {'penalty': 'none', 'LogisticRegression C': 0.5366473566092491, 'SVC C': 43.01469453417734, 'kernel': 'poly', 'gamma': 0.002318473962463648, 'classifiers': 'clf2'}. Best is trial 23 with value: 0.787565091912918.\u001b[0m\n"
     ]
    },
    {
     "name": "stdout",
     "output_type": "stream",
     "text": [
      "[LibSVM]"
     ]
    },
    {
     "name": "stderr",
     "output_type": "stream",
     "text": [
      "\u001b[32m[I 2021-12-14 11:52:04,283]\u001b[0m Trial 57 finished with value: 0.7874396135265701 and parameters: {'penalty': 'none', 'LogisticRegression C': 0.3532115242112735, 'SVC C': 72.91387327783124, 'kernel': 'rbf', 'gamma': 0.925665891434569, 'classifiers': 'clf2'}. Best is trial 23 with value: 0.787565091912918.\u001b[0m\n"
     ]
    },
    {
     "name": "stdout",
     "output_type": "stream",
     "text": [
      "[LibSVM]"
     ]
    },
    {
     "name": "stderr",
     "output_type": "stream",
     "text": [
      "\u001b[32m[I 2021-12-14 11:55:12,108]\u001b[0m Trial 58 finished with value: 0.7866867432084823 and parameters: {'penalty': 'none', 'LogisticRegression C': 0.3561876801536106, 'SVC C': 17.12942494383322, 'kernel': 'rbf', 'gamma': 1.6393556153081776, 'classifiers': 'clf2'}. Best is trial 23 with value: 0.787565091912918.\u001b[0m\n",
      "C:\\Users\\Burla Nur\\Anaconda3\\envs\\my_env\\lib\\site-packages\\sklearn\\linear_model\\_logistic.py:1505: UserWarning: Setting penalty='none' will ignore the C and l1_ratio parameters\n",
      "  \"Setting penalty='none' will ignore the C and l1_ratio \"\n",
      "[Parallel(n_jobs=1)]: Using backend SequentialBackend with 1 concurrent workers.\n",
      "C:\\Users\\Burla Nur\\Anaconda3\\envs\\my_env\\lib\\site-packages\\sklearn\\linear_model\\_logistic.py:940: ConvergenceWarning: lbfgs failed to converge (status=1):\n",
      "STOP: TOTAL NO. of ITERATIONS REACHED LIMIT.\n",
      "\n",
      "Increase the number of iterations (max_iter) or scale the data as shown in:\n",
      "    https://scikit-learn.org/stable/modules/preprocessing.html\n",
      "Please also refer to the documentation for alternative solver options:\n",
      "    https://scikit-learn.org/stable/modules/linear_model.html#logistic-regression\n",
      "  extra_warning_msg=_LOGISTIC_SOLVER_CONVERGENCE_MSG)\n",
      "[Parallel(n_jobs=1)]: Done   1 out of   1 | elapsed:    0.2s remaining:    0.0s\n",
      "[Parallel(n_jobs=1)]: Done   1 out of   1 | elapsed:    0.2s finished\n",
      "\u001b[32m[I 2021-12-14 11:55:12,478]\u001b[0m Trial 59 finished with value: 0.7701235962105527 and parameters: {'penalty': 'none', 'LogisticRegression C': 0.1894396302177672, 'SVC C': 52.97422676918969, 'kernel': 'rbf', 'gamma': 2.8871768540635308, 'classifiers': 'clf1'}. Best is trial 23 with value: 0.787565091912918.\u001b[0m\n"
     ]
    },
    {
     "name": "stdout",
     "output_type": "stream",
     "text": [
      "[LibSVM]"
     ]
    }
   ],
   "source": [
    "model_list = []\n",
    "\n",
    "test_ml = []\n",
    "test_label_ml = []\n",
    "\n",
    "# 3 hours to find best parameters\n",
    "study = optuna.create_study(direction=\"maximize\")\n",
    "study.optimize(objective, n_trials=100, timeout=21600)\n",
    "\n",
    "print(\"Number of finished trials: {}\".format(len(study.trials)))\n",
    "\n",
    "print(\"Best trial:\")\n",
    "trial = study.best_trial\n",
    "\n",
    "print(\"  Value: {}\".format(trial.value))\n",
    "\n",
    "print(\"  Params: \")\n",
    "for key, value in trial.params.items():\n",
    "    print(\"    {}: {}\".format(key, value))"
   ]
  },
  {
   "cell_type": "code",
   "execution_count": 15,
   "metadata": {},
   "outputs": [],
   "source": [
    "ml_model = joblib.load('ml_model\\\\best_ml_model.sav')"
   ]
  },
  {
   "cell_type": "code",
   "execution_count": 18,
   "metadata": {},
   "outputs": [
    {
     "name": "stderr",
     "output_type": "stream",
     "text": [
      "C:\\Users\\Burla Nur\\Anaconda3\\envs\\my_env\\lib\\site-packages\\sklearn\\utils\\deprecation.py:87: FutureWarning: Function plot_roc_curve is deprecated; This will be removed in v0.5.0. Please use scikitplot.metrics.plot_roc instead.\n",
      "  warnings.warn(msg, category=FutureWarning)\n"
     ]
    },
    {
     "data": {
      "image/png": "[encoded data removed]",
      "text/plain": [
       "<Figure size 432x288 with 1 Axes>"
      ]
     },
     "metadata": {
      "needs_background": "light"
     },
     "output_type": "display_data"
    }
   ],
   "source": [
    "#ROC curves\n",
    "y_true = test_label_ml\n",
    "y_prob =  ml_model.predict(test_ml) \n",
    "t = np.zeros((len(test_label_ml), 2))\n",
    "for i in range(len(test_label_ml)):\n",
    "    if(y_prob[i] == 0):\n",
    "        t[i][0] = 1\n",
    "    else:\n",
    "        t[i][1] = 1\n",
    "        \n",
    "skplt.metrics.plot_roc_curve(y_true, t)\n",
    "plt.show()"
   ]
  },
  {
   "cell_type": "code",
   "execution_count": 19,
   "metadata": {},
   "outputs": [
    {
     "data": {
      "text/plain": [
       "[Text(69.0, 0.5, 'true label'), Text(0.5, 42.0, 'predicted label')]"
      ]
     },
     "execution_count": 19,
     "metadata": {},
     "output_type": "execute_result"
    },
    {
     "data": {
      "image/png": "[encoded data removed]",
      "text/plain": [
       "<Figure size 720x504 with 2 Axes>"
      ]
     },
     "metadata": {
      "needs_background": "light"
     },
     "output_type": "display_data"
    }
   ],
   "source": [
    "#confusion matrix   \n",
    "matrix = confusion_matrix(y_true, y_prob,normalize='true') \n",
    "plt.figure(figsize = (10,7))\n",
    "ax = sns.heatmap(matrix, annot=True)\n",
    "ax.set(xlabel='predicted label', ylabel='true label')"
   ]
  },
  {
   "cell_type": "code",
   "execution_count": null,
   "metadata": {},
   "outputs": [],
   "source": []
  }
 ],
 "metadata": {
  "kernelspec": {
   "display_name": "Python 3",
   "language": "python",
   "name": "python3"
  },
  "language_info": {
   "codemirror_mode": {
    "name": "ipython",
    "version": 3
   },
   "file_extension": ".py",
   "mimetype": "text/x-python",
   "name": "python",
   "nbconvert_exporter": "python",
   "pygments_lexer": "ipython3",
   "version": "3.7.1"
  }
 },
 "nbformat": 4,
 "nbformat_minor": 4
}
